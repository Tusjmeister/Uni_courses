{
 "cells": [
  {
   "cell_type": "markdown",
   "metadata": {},
   "source": [
    "## CA 1:"
   ]
  },
  {
   "cell_type": "markdown",
   "metadata": {},
   "source": [
    "### Task 1"
   ]
  },
  {
   "cell_type": "markdown",
   "metadata": {},
   "source": [
    "#### Importing the neccessary libraries and writing the data:"
   ]
  },
  {
   "cell_type": "code",
   "execution_count": 12,
   "metadata": {},
   "outputs": [
    {
     "data": {
      "text/html": [
       "<div>\n",
       "<style scoped>\n",
       "    .dataframe tbody tr th:only-of-type {\n",
       "        vertical-align: middle;\n",
       "    }\n",
       "\n",
       "    .dataframe tbody tr th {\n",
       "        vertical-align: top;\n",
       "    }\n",
       "\n",
       "    .dataframe thead th {\n",
       "        text-align: right;\n",
       "    }\n",
       "</style>\n",
       "<table border=\"1\" class=\"dataframe\">\n",
       "  <thead>\n",
       "    <tr style=\"text-align: right;\">\n",
       "      <th></th>\n",
       "      <th>treatment</th>\n",
       "      <th>survival time (months)</th>\n",
       "      <th>event</th>\n",
       "    </tr>\n",
       "  </thead>\n",
       "  <tbody>\n",
       "    <tr>\n",
       "      <th>0</th>\n",
       "      <td>yes</td>\n",
       "      <td>1</td>\n",
       "      <td>0</td>\n",
       "    </tr>\n",
       "    <tr>\n",
       "      <th>1</th>\n",
       "      <td>yes</td>\n",
       "      <td>5</td>\n",
       "      <td>0</td>\n",
       "    </tr>\n",
       "    <tr>\n",
       "      <th>2</th>\n",
       "      <td>yes</td>\n",
       "      <td>6</td>\n",
       "      <td>1</td>\n",
       "    </tr>\n",
       "    <tr>\n",
       "      <th>3</th>\n",
       "      <td>yes</td>\n",
       "      <td>6</td>\n",
       "      <td>1</td>\n",
       "    </tr>\n",
       "    <tr>\n",
       "      <th>4</th>\n",
       "      <td>yes</td>\n",
       "      <td>9</td>\n",
       "      <td>0</td>\n",
       "    </tr>\n",
       "  </tbody>\n",
       "</table>\n",
       "</div>"
      ],
      "text/plain": [
       "  treatment  survival time (months)  event\n",
       "0       yes                       1      0\n",
       "1       yes                       5      0\n",
       "2       yes                       6      1\n",
       "3       yes                       6      1\n",
       "4       yes                       9      0"
      ]
     },
     "execution_count": 12,
     "metadata": {},
     "output_type": "execute_result"
    }
   ],
   "source": [
    "import pandas as pd\n",
    "import numpy as np\n",
    "import matplotlib.pyplot as plt\n",
    "from sksurv.nonparametric import kaplan_meier_estimator\n",
    "\n",
    "\n",
    "data = {\n",
    "    \"treatment\": [\"yes\", \"yes\",\"yes\", \"yes\", \"yes\", # no = placebo\n",
    "                  \"yes\", \"yes\",\"yes\", \"yes\", \"yes\",\n",
    "                  \"yes\", \"yes\",\"yes\", \"yes\", \"yes\",\n",
    "                  \"yes\", \"yes\",\"yes\", \"yes\", \"yes\",\n",
    "                  \"yes\", \"yes\", \"yes\", \"yes\", \"yes\",\n",
    "                  \"no\", \"no\", \"no\", \"no\", \"no\",\n",
    "                  \"no\", \"no\", \"no\", \"no\", \"no\",\n",
    "                  \"no\", \"no\", \"no\", \"no\", \"no\",\n",
    "                  \"no\", \"no\", \"no\", \"no\", \"no\",\n",
    "                  \"no\", \"no\", \"no\", \"no\"],\n",
    "\n",
    "    \"survival time (months)\": [1, 5, 6, 6, 9, \n",
    "                      10, 10, 10, 12, 12,\n",
    "                      12, 12, 12, 13, 15,\n",
    "                      16, 20, 24, 24, 27,\n",
    "                      32, 34, 36, 36, 44,\n",
    "                      3, 6, 6, 6, 6,\n",
    "                      8, 8, 12, 12, 12,\n",
    "                      15, 16, 18, 18, 20,\n",
    "                      22, 24, 28, 28, 28,\n",
    "                      30, 30, 33, 42],\n",
    "\n",
    "    \"event\": [0, 0, 1, 1, 0, # 1 = event happened, 0 = censored\n",
    "                 1, 1, 0, 1, 1,\n",
    "                 1, 1, 0, 0, 0,\n",
    "                 0, 0, 1, 0, 0,\n",
    "                 1, 0, 0, 0, 0,\n",
    "                 0, 1, 1, 1, 1,\n",
    "                 1, 1, 1, 1, 0,\n",
    "                 0, 0, 0, 0, 1,\n",
    "                 0, 1, 0, 0, 0,\n",
    "                 1, 0, 0, 1]\n",
    "}\n",
    "\n",
    "# Create a DataFrame from the data\n",
    "df = pd.DataFrame(data)\n",
    "\n",
    "# Display the DataFrame\n",
    "df.head()\n"
   ]
  },
  {
   "cell_type": "code",
   "execution_count": 13,
   "metadata": {},
   "outputs": [
    {
     "name": "stdout",
     "output_type": "stream",
     "text": [
      "There are 10 failures in the treatment group and 12 failures in the control group\n",
      "The average survival time for the treatment group is 17.52 and the average survival time for the control group is 17.958333333333332\n",
      "The average hazard rate for the treatment group is 0.0228310502283105 and the average hazard rate for the control group is 0.027842227378190254\n",
      "The hazard ratio is 1.2194895591647332\n"
     ]
    }
   ],
   "source": [
    "# Separate data into treatment groups\n",
    "treatment_yes = df[df[\"treatment\"] == \"yes\"]\n",
    "treatment_no = df[df[\"treatment\"] == \"no\"]\n",
    "\n",
    "# The groups with only the non-censored data\n",
    "treatment_yes_1 = df[(df[\"treatment\"] == \"yes\") & (df[\"event\"] == 1)]\n",
    "treatment_no_1 = df[(df[\"treatment\"] == \"no\") & (df[\"event\"] == 1)]\n",
    "\n",
    "print(f\"There are {len(treatment_yes_1)} failures in the treatment group and {len(treatment_no_1)} failures in the control group\") # Double checking that the number of rows is correct\n",
    "\n",
    "# Average survival time\n",
    "avg_survival_time_treatment = sum(df[\"survival time (months)\"][:25]) / 25\n",
    "avg_survival_time_control = sum(df[\"survival time (months)\"][25:])  / 24\n",
    "\n",
    "print(f\"The average survival time for the treatment group is {avg_survival_time_treatment} and the average survival time for the control group is {avg_survival_time_control}\")\n",
    "\n",
    "# Average hazard rate\n",
    "avg_hazard_treatment = len(treatment_yes_1) / sum(df[\"survival time (months)\"][:25])\n",
    "avg_hazard_control = len(treatment_no_1) / sum(df[\"survival time (months)\"][25:])\n",
    "\n",
    "print(f\"The average hazard rate for the treatment group is {avg_hazard_treatment} and the average hazard rate for the control group is {avg_hazard_control}\")\n",
    "\n",
    "# Hazard ratio\n",
    "hazard_ratio = avg_hazard_control / avg_hazard_treatment\n",
    "print(f\"The hazard ratio is {hazard_ratio}\")"
   ]
  },
  {
   "cell_type": "markdown",
   "metadata": {},
   "source": [
    "One can see that the average survival time higher for the control group, but the difference is not significant.\n",
    "Furthermore, the hazard is higher for the control group, as seen above. The ratio is 1.2, which means that the hazard is 20% higher for the control group.\n",
    "One should take this info with a grain of salt, because there are quite many censored patients in the treatment group."
   ]
  },
  {
   "cell_type": "markdown",
   "metadata": {},
   "source": [
    "### Task 2"
   ]
  },
  {
   "cell_type": "markdown",
   "metadata": {},
   "source": [
    "![Alt text](image.png)"
   ]
  },
  {
   "cell_type": "markdown",
   "metadata": {},
   "source": [
    "![Alt text](image-1.png)"
   ]
  },
  {
   "cell_type": "markdown",
   "metadata": {},
   "source": [
    "![Alt text](image-2.png)"
   ]
  },
  {
   "cell_type": "markdown",
   "metadata": {},
   "source": [
    "![Alt text](image-3.png)"
   ]
  },
  {
   "cell_type": "markdown",
   "metadata": {},
   "source": [
    "est_1 is for the treatment group, while est_2 is for the control group."
   ]
  },
  {
   "cell_type": "markdown",
   "metadata": {},
   "source": [
    "![Alt text](image-4.png)"
   ]
  },
  {
   "cell_type": "markdown",
   "metadata": {},
   "source": [
    "### Task 3\n"
   ]
  },
  {
   "cell_type": "markdown",
   "metadata": {},
   "source": [
    "![Alt text](image-5.png)"
   ]
  },
  {
   "cell_type": "markdown",
   "metadata": {},
   "source": [
    "As seen above on the curve, the median survival time for the treatment group is 32, while it is 30 for the control group."
   ]
  },
  {
   "cell_type": "markdown",
   "metadata": {},
   "source": [
    "### Task 4"
   ]
  },
  {
   "cell_type": "markdown",
   "metadata": {},
   "source": [
    "#### Making lists of the data:"
   ]
  },
  {
   "cell_type": "code",
   "execution_count": 33,
   "metadata": {},
   "outputs": [],
   "source": [
    "# Making lists since they are easier to work with for this instance in sksurv\n",
    "\n",
    "treatment = [1, 5, 6, 6, 9, \n",
    "                      10, 10, 10, 12, 12,\n",
    "                      12, 12, 12, 13, 15,\n",
    "                      16, 20, 24, 24, 27,\n",
    "                      32, 34, 36, 36, 44]\n",
    "\n",
    "control = [3, 6, 6, 6, 6,\n",
    "                      8, 8, 12, 12, 12,\n",
    "                      15, 16, 18, 18, 20,\n",
    "                      22, 24, 28, 28, 28,\n",
    "                      30, 30, 33, 42]\n",
    "\n",
    "treatment_event = [0, 0, 1, 1, 0, # 1 = event happened, 0 = censored\n",
    "                 1, 1, 0, 1, 1,\n",
    "                 1, 1, 0, 0, 0,\n",
    "                 0, 0, 1, 0, 0,\n",
    "                 1, 0, 0, 0, 0,]\n",
    "\n",
    "control_event = [0, 1, 1, 1, 1, # 1 = event happened, 0 = censored\n",
    "                 1, 1, 1, 1, 0,\n",
    "                 0, 0, 0, 0, 1,\n",
    "                 0, 1, 0, 0, 0,\n",
    "                 1, 0, 0, 1]"
   ]
  },
  {
   "cell_type": "code",
   "execution_count": 34,
   "metadata": {},
   "outputs": [
    {
     "data": {
      "image/png": "[encoded data removed]",
      "text/plain": [
       "<Figure size 1200x800 with 1 Axes>"
      ]
     },
     "metadata": {},
     "output_type": "display_data"
    }
   ],
   "source": [
    "# Making the event data into boolean (because sksurv requires it)\n",
    "\n",
    "treatment_event_bool = np.array(treatment_event, dtype=bool)\n",
    "control_event_bool = np.array(control_event, dtype=bool)\n",
    "\n",
    "# Kaplan-Meier estimator\n",
    "\n",
    "time_treatment, survival_prob_treatment, conf_int = kaplan_meier_estimator(treatment_event_bool, treatment, conf_type=\"log-log\")\n",
    "time_control, survival_prob_control, conf_int = kaplan_meier_estimator(control_event_bool, control, conf_type=\"log-log\")\n",
    "\n",
    "# Plotting the Kaplan-Meier curves\n",
    "\n",
    "plt.figure(figsize=(12, 8))\n",
    "plt.step(time_treatment, survival_prob_treatment, where=\"post\", label=\"Treatment\")\n",
    "plt.step(time_control, survival_prob_control, where=\"post\", label=\"Control\")\n",
    "plt.xlabel(\"Time (months)\")\n",
    "plt.ylabel(\"Estimated survival probability\")\n",
    "plt.title(\"Kaplan-Meier estimator\")\n",
    "\n",
    "plt.xticks(np.arange(0, 50, 5))\n",
    "plt.legend()\n",
    "plt.grid(True)\n",
    "plt.show()"
   ]
  },
  {
   "cell_type": "markdown",
   "metadata": {},
   "source": [
    "As seen above, the graph I made by hand is approximately the same as the one made by the Kaplan-Meier estimator."
   ]
  }
 ],
 "metadata": {
  "kernelspec": {
   "display_name": "Python 3 (ipykernel)",
   "language": "python",
   "name": "python3"
  },
  "language_info": {
   "codemirror_mode": {
    "name": "ipython",
    "version": 3
   },
   "file_extension": ".py",
   "mimetype": "text/x-python",
   "name": "python",
   "nbconvert_exporter": "python",
   "pygments_lexer": "ipython3",
   "version": "3.11.5"
  }
 },
 "nbformat": 4,
 "nbformat_minor": 2
}
