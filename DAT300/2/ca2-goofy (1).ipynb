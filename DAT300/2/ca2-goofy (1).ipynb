{
 "cells": [
  {
   "cell_type": "markdown",
   "metadata": {
    "_cell_guid": "a588f064-15f4-4c23-a488-7548e0db0017",
    "_uuid": "fd1c2e49-9a10-46bf-8569-1646c5f9f4f3"
   },
   "source": [
    "# DAT300 - Compulsory assignment 2"
   ]
  },
  {
   "cell_type": "markdown",
   "metadata": {
    "_cell_guid": "c78c2225-d5f8-43ab-8738-525dc63c3bd7",
    "_uuid": "d117574d-a15f-41f6-b9a9-c07d6173fab5"
   },
   "source": [
    "## Group 2\n",
    "#### Fight Club Goofy Edition\n",
    "\n",
    "## Orion username:\n",
    "#### dat300-22-9\n",
    "  \n",
    "## Members\n",
    "- Joel Yacob\n",
    "- Artush Mkrtchyan"
   ]
  },
  {
   "cell_type": "markdown",
   "metadata": {
    "_cell_guid": "8139c248-c853-4a76-b3d8-cc6edf128b81",
    "_uuid": "2c97c602-ac20-42a9-b5f3-6466b833e104"
   },
   "source": [
    "# Introduction"
   ]
  },
  {
   "cell_type": "markdown",
   "metadata": {
    "_cell_guid": "9f609b42-6680-4b96-a6ef-b49b6edfb73f",
    "_uuid": "22efae26-183e-4967-9f1f-2031955eb4e6"
   },
   "source": [
    "The problem that we are going to solve is to differantiate between roads and everything else using pictures of roads as training data. The pictures have three channels; red, green and blue. The different parts in the pictures are already classified, therefore we have to make this a binary problem where roads are categorised as one thing, while everything else falls under another category called 'other'. \n",
    "\n",
    "We are then going to use U-net and tune the parameters to then train the model. After that we are going to use VGG16 and compare that method with the manual U-net to see which model performed the best. \n",
    "\n",
    "And last, but not least, we are going to upload these models to Orion and see if there is any difference in accuracy and total time used."
   ]
  },
  {
   "cell_type": "markdown",
   "metadata": {
    "_cell_guid": "b6991efa-e9a6-402f-bfa6-14bc96a923c8",
    "_uuid": "9b4f4931-7406-421c-97b2-576430b21b7c"
   },
   "source": [
    "# Data handling and visualisation"
   ]
  },
  {
   "cell_type": "code",
   "execution_count": 1,
   "metadata": {
    "_cell_guid": "013b7123-2d2d-4f63-ae92-ad269c35eb92",
    "_uuid": "fa6511b4-9dea-4c95-9343-efae8545821b",
    "collapsed": false,
    "execution": {
     "iopub.execute_input": "2022-11-09T12:03:33.401561Z",
     "iopub.status.busy": "2022-11-09T12:03:33.401162Z",
     "iopub.status.idle": "2022-11-09T12:03:44.005916Z",
     "shell.execute_reply": "2022-11-09T12:03:44.004796Z",
     "shell.execute_reply.started": "2022-11-09T12:03:33.401483Z"
    },
    "jupyter": {
     "outputs_hidden": false
    }
   },
   "outputs": [],
   "source": [
    "# Import and extraction of data.\n",
    "import numpy as np\n",
    "import h5py\n",
    "import matplotlib.pyplot as plt\n",
    "import tensorflow as tf\n",
    "import pandas as pd\n",
    "\n",
    "from sklearn.model_selection import train_test_split\n",
    "from tensorflow.keras.layers import Input, Conv2D, BatchNormalization, Activation, MaxPooling2D, Dropout, Conv2DTranspose, concatenate\n",
    "from tensorflow.keras.models import Model\n",
    "from tensorflow.keras.optimizers import Adam\n",
    "from tensorflow.keras.callbacks import ModelCheckpoint, LearningRateScheduler, EarlyStopping\n",
    "from keras import backend as K\n",
    "from keras.applications.vgg16 import VGG16 as vg, preprocess_input"
   ]
  },
  {
   "cell_type": "markdown",
   "metadata": {
    "_cell_guid": "76dc7d1c-7faa-4fb9-b870-5ccdc96a158b",
    "_uuid": "065a7f97-986b-4563-b30d-3816e5d6d1f6"
   },
   "source": [
    "As seen below, we are defining the training and testing data"
   ]
  },
  {
   "cell_type": "code",
   "execution_count": 2,
   "metadata": {
    "_cell_guid": "6e826d59-ccf5-4404-9684-219c519ac1ac",
    "_uuid": "bff54e6b-5fee-4e6c-bb6d-84029fc395f1",
    "collapsed": false,
    "execution": {
     "iopub.execute_input": "2022-11-09T12:03:44.008796Z",
     "iopub.status.busy": "2022-11-09T12:03:44.008151Z",
     "iopub.status.idle": "2022-11-09T12:03:44.050093Z",
     "shell.execute_reply": "2022-11-09T12:03:44.048404Z",
     "shell.execute_reply.started": "2022-11-09T12:03:44.008760Z"
    },
    "jupyter": {
     "outputs_hidden": false
    }
   },
   "outputs": [],
   "source": [
    "train_data = h5py.File(\"../input/ca2-test-and-train/train.h5\")\n",
    "test_data = h5py.File(\"../input/ca2-test-and-train/test.h5\")"
   ]
  },
  {
   "cell_type": "code",
   "execution_count": 3,
   "metadata": {
    "_cell_guid": "8cdcd7ba-edd3-4404-92c7-cb14b9097020",
    "_uuid": "12211279-450b-49d2-b8e7-e61de733eed2",
    "collapsed": false,
    "execution": {
     "iopub.execute_input": "2022-11-09T12:03:44.053189Z",
     "iopub.status.busy": "2022-11-09T12:03:44.051598Z",
     "iopub.status.idle": "2022-11-09T12:03:44.074101Z",
     "shell.execute_reply": "2022-11-09T12:03:44.073210Z",
     "shell.execute_reply.started": "2022-11-09T12:03:44.053151Z"
    },
    "jupyter": {
     "outputs_hidden": false
    }
   },
   "outputs": [
    {
     "name": "stdout",
     "output_type": "stream",
     "text": [
      "<KeysViewHDF5 ['X', 'y']>\n",
      "<KeysViewHDF5 ['X']>\n"
     ]
    }
   ],
   "source": [
    "print(train_data.keys())\n",
    "print(test_data.keys())"
   ]
  },
  {
   "cell_type": "code",
   "execution_count": 4,
   "metadata": {
    "_cell_guid": "d5461203-c237-4dcf-8d4f-184589368a61",
    "_uuid": "0ff41087-d1a1-43af-beb8-63cf75d0f105",
    "collapsed": false,
    "execution": {
     "iopub.execute_input": "2022-11-09T12:03:44.078157Z",
     "iopub.status.busy": "2022-11-09T12:03:44.077016Z",
     "iopub.status.idle": "2022-11-09T12:04:04.261388Z",
     "shell.execute_reply": "2022-11-09T12:04:04.260385Z",
     "shell.execute_reply.started": "2022-11-09T12:03:44.078119Z"
    },
    "jupyter": {
     "outputs_hidden": false
    }
   },
   "outputs": [],
   "source": [
    "X = train_data[\"X\"][:]\n",
    "y = train_data[\"y\"][:]\n",
    "\n",
    "X_test_final = test_data[\"X\"][:]"
   ]
  },
  {
   "cell_type": "code",
   "execution_count": 38,
   "metadata": {
    "_cell_guid": "1bfa7e1e-c084-48bb-be17-9fd943a7f10a",
    "_uuid": "2d82ac59-be89-4d55-975c-ad3bcf9b9a5e",
    "collapsed": false,
    "execution": {
     "iopub.execute_input": "2022-11-09T12:54:14.920197Z",
     "iopub.status.busy": "2022-11-09T12:54:14.919749Z",
     "iopub.status.idle": "2022-11-09T12:54:14.927294Z",
     "shell.execute_reply": "2022-11-09T12:54:14.926301Z",
     "shell.execute_reply.started": "2022-11-09T12:54:14.920151Z"
    },
    "jupyter": {
     "outputs_hidden": false
    }
   },
   "outputs": [
    {
     "name": "stdout",
     "output_type": "stream",
     "text": [
      "Shape of X:  (2780, 128, 128, 3)\n",
      "Shape of y:  (2780, 128, 128, 1)\n",
      "Shape of X_test_final:  (695, 128, 128, 3)\n"
     ]
    }
   ],
   "source": [
    "print(\"Shape of X: \", X.shape)\n",
    "print(\"Shape of y: \", y.shape)\n",
    "print(\"Shape of X_test_final: \", X_test_final.shape)"
   ]
  },
  {
   "cell_type": "markdown",
   "metadata": {
    "_cell_guid": "7c699cd5-e01d-4f51-9cd4-fe56f466f422",
    "_uuid": "548d36fc-d192-4cf8-8471-028967568d97"
   },
   "source": [
    "As seen on shape of X, the pictures are all 128 x 128 with 3 channels."
   ]
  },
  {
   "cell_type": "code",
   "execution_count": 6,
   "metadata": {
    "_cell_guid": "4582eaa9-7870-4ec2-b30d-7ca0f2e0f384",
    "_uuid": "4070c5c1-6203-4fe5-a202-0e38eb1356de",
    "collapsed": false,
    "execution": {
     "iopub.execute_input": "2022-11-09T12:04:04.272932Z",
     "iopub.status.busy": "2022-11-09T12:04:04.272224Z",
     "iopub.status.idle": "2022-11-09T12:04:04.284341Z",
     "shell.execute_reply": "2022-11-09T12:04:04.283475Z",
     "shell.execute_reply.started": "2022-11-09T12:04:04.272846Z"
    },
    "jupyter": {
     "outputs_hidden": false
    }
   },
   "outputs": [
    {
     "name": "stdout",
     "output_type": "stream",
     "text": [
      "Height of image:  128\n",
      "Width of image:  128\n",
      "Channels of image:  3\n"
     ]
    }
   ],
   "source": [
    "# Short exploration and visualisation of dataset (point 1 in Canvas).\n",
    "print(\"Height of image: \",X.shape[1])\n",
    "print(\"Width of image: \",X.shape[2])\n",
    "print(\"Channels of image: \",X.shape[3])"
   ]
  },
  {
   "cell_type": "markdown",
   "metadata": {
    "_cell_guid": "3dc013b8-5f96-4ae8-a07a-abea1c52ef3d",
    "_uuid": "7f3f4a77-a2a1-4ee4-9b5d-907103b7711e"
   },
   "source": [
    "The code below is to show the three channels, the original picture and how the differnt parts are segmentated."
   ]
  },
  {
   "cell_type": "code",
   "execution_count": 7,
   "metadata": {
    "_cell_guid": "f0635e4d-ecfd-4701-ad76-7914e1c45fc2",
    "_uuid": "9476102a-2c1d-4550-965a-f2a47f691f15",
    "collapsed": false,
    "execution": {
     "iopub.execute_input": "2022-11-09T12:04:04.286318Z",
     "iopub.status.busy": "2022-11-09T12:04:04.285537Z",
     "iopub.status.idle": "2022-11-09T12:04:04.734147Z",
     "shell.execute_reply": "2022-11-09T12:04:04.733282Z",
     "shell.execute_reply.started": "2022-11-09T12:04:04.286217Z"
    },
    "jupyter": {
     "outputs_hidden": false
    }
   },
   "outputs": [
    {
     "data": {
      "image/png": "[encoded data removed]",
      "text/plain": [
       "<Figure size 864x864 with 5 Axes>"
      ]
     },
     "metadata": {
      "needs_background": "light"
     },
     "output_type": "display_data"
    }
   ],
   "source": [
    "fig, ax = plt.subplots(1,5, figsize=(12,12))\n",
    "\n",
    "for i , axis in enumerate(ax[:3]):\n",
    "    axis.imshow(X[0][:,:,i])\n",
    "    axis.title.set_text(f'Channel {i}')\n",
    "    axis.set_xticks([])\n",
    "    axis.set_yticks([])\n",
    "\n",
    "ax[3].imshow(X[0])\n",
    "ax[3].title.set_text(\"Full image\")\n",
    "\n",
    "ax[4].imshow(y[0])\n",
    "ax[4].title.set_text(\"segmentation\")\n",
    "\n",
    "plt.show()"
   ]
  },
  {
   "cell_type": "markdown",
   "metadata": {
    "_cell_guid": "1683896e-f434-4991-84d8-9461ae4044fb",
    "_uuid": "f79fc83e-f91f-4177-8459-06b88c9d1a9c"
   },
   "source": [
    "In channel 0, we see where there are most reds, in channel 1 the same but with greens, and channel 2 with blues. The last picture shows the segmentation of the different parts (cars, roads, people and other things)."
   ]
  },
  {
   "cell_type": "markdown",
   "metadata": {
    "_cell_guid": "d46d0f12-3d2c-4a43-a0a6-5554aecce7de",
    "_uuid": "28a84b2d-693f-479d-8a30-2b36aa48c095"
   },
   "source": [
    "# Methods"
   ]
  },
  {
   "cell_type": "markdown",
   "metadata": {
    "_cell_guid": "7d94adc9-5dd0-4854-bb47-cdfaffc95fe7",
    "_uuid": "83e4e571-d5e3-4399-aab2-269f5cb86f98"
   },
   "source": [
    "Since the dataset was particularly large, we did not perform gridsearch and such strategies to get better tuned hyperparameters. Other than splitting the dataset for training and testing, we did not use much advanced methods for this task. \n",
    "\n",
    "We first tried a 2D U-Net, then we combined our U-Net with the pretrained VGG16 for a better result. The last method we used was multiclass segmentation with U-Net, we had to convert our U-Net function to a 3D approach."
   ]
  },
  {
   "cell_type": "markdown",
   "metadata": {
    "_cell_guid": "9266a4b5-f1d4-4efa-af6c-459e21beb2c0",
    "_uuid": "978ded3c-da1e-4a87-bc12-735814553645"
   },
   "source": [
    "# Preprocessing"
   ]
  },
  {
   "cell_type": "markdown",
   "metadata": {
    "_cell_guid": "656fbd93-fb1f-4a52-b0e7-d48bb30717d3",
    "_uuid": "be282e4f-30da-4d35-b269-f6a76b31d352"
   },
   "source": [
    "Splitting into train and test using the train data before transforming the train labels into a binary problem."
   ]
  },
  {
   "cell_type": "code",
   "execution_count": 8,
   "metadata": {
    "_cell_guid": "87c36787-cbf0-4b88-8795-d3d8002e878d",
    "_uuid": "bb3122a3-93fa-415d-b08d-c8007ac41b11",
    "collapsed": false,
    "execution": {
     "iopub.execute_input": "2022-11-09T12:04:04.736272Z",
     "iopub.status.busy": "2022-11-09T12:04:04.735193Z",
     "iopub.status.idle": "2022-11-09T12:04:05.321924Z",
     "shell.execute_reply": "2022-11-09T12:04:05.320906Z",
     "shell.execute_reply.started": "2022-11-09T12:04:04.736238Z"
    },
    "jupyter": {
     "outputs_hidden": false
    },
    "pycharm": {
     "is_executing": true
    }
   },
   "outputs": [],
   "source": [
    "# Code for preprocessing of the data and transformation of labels for the binary problem (Point 2 in Canvas)\n",
    "\n",
    "y = np.where(y != 0, 1,0) # Transform the train labels into a binary problem\n",
    "\n",
    "X_train, X_test, y_train, y_test = train_test_split(\n",
    "    X,y, test_size=0.1, random_state=69)"
   ]
  },
  {
   "cell_type": "markdown",
   "metadata": {
    "_cell_guid": "91b0c802-8930-45d8-8cb7-d84852c95892",
    "_uuid": "e0302589-3953-494e-98eb-fd3998e6cdc9"
   },
   "source": [
    "# Results"
   ]
  },
  {
   "cell_type": "markdown",
   "metadata": {
    "_cell_guid": "38ca0c18-5ce4-40d1-8f66-14d6e5335ef0",
    "_uuid": "d47e1ea4-ce2b-4eff-8db4-9e5c719fe269"
   },
   "source": [
    "#### Functions of U-net below:"
   ]
  },
  {
   "cell_type": "code",
   "execution_count": 9,
   "metadata": {
    "_cell_guid": "c8bf8206-5f95-4fd7-81a6-9f2719763a3c",
    "_uuid": "613196fb-243f-4cfe-b647-9d5aaec08d40",
    "collapsed": false,
    "execution": {
     "iopub.execute_input": "2022-11-09T12:04:05.324126Z",
     "iopub.status.busy": "2022-11-09T12:04:05.323710Z",
     "iopub.status.idle": "2022-11-09T12:04:05.341682Z",
     "shell.execute_reply": "2022-11-09T12:04:05.340608Z",
     "shell.execute_reply.started": "2022-11-09T12:04:05.324087Z"
    },
    "jupyter": {
     "outputs_hidden": false
    }
   },
   "outputs": [],
   "source": [
    "# Code and model training for your best Basic U-Net model (point 3 in Canvas)\n",
    "\n",
    "def conv2d_block(input_tensor, n_filters, kernel_size = 3, batchnorm = True):\n",
    "    \"\"\"Function to add 2 convolutional layers with the parameters passed to it\"\"\"\n",
    "    # first layer\n",
    "    x = Conv2D(filters = n_filters, kernel_size = (kernel_size, kernel_size),\\\n",
    "              kernel_initializer = 'he_normal', padding = 'same')(input_tensor)\n",
    "    if batchnorm:\n",
    "        x = BatchNormalization()(x)\n",
    "    x = Activation('relu')(x)\n",
    "    \n",
    "    # second layer\n",
    "    x = Conv2D(filters = n_filters, kernel_size = (kernel_size, kernel_size),\\\n",
    "              kernel_initializer = 'he_normal', padding = 'same')(x)\n",
    "    if batchnorm:\n",
    "        x = BatchNormalization()(x)\n",
    "    x = Activation('relu')(x)\n",
    "    \n",
    "    return x\n",
    "\n",
    "\n",
    "def get_unet(input_img, n_filters = 16, dropout = 0.1, batchnorm = True, n_classes = 2):\n",
    "    \n",
    "    # Contracting Path\n",
    "    c1 = conv2d_block(input_img, n_filters * 1, kernel_size = 3, batchnorm = batchnorm)\n",
    "    p1 = MaxPooling2D((2, 2))(c1)\n",
    "    p1 = Dropout(dropout)(p1)\n",
    "    \n",
    "    c2 = conv2d_block(p1, n_filters * 2, kernel_size = 3, batchnorm = batchnorm)\n",
    "    p2 = MaxPooling2D((2, 2))(c2)\n",
    "    p2 = Dropout(dropout)(p2)\n",
    "    \n",
    "    c3 = conv2d_block(p2, n_filters * 4, kernel_size = 3, batchnorm = batchnorm)\n",
    "    p3 = MaxPooling2D((2, 2))(c3)\n",
    "    p3 = Dropout(dropout)(p3)\n",
    "    \n",
    "    c4 = conv2d_block(p3, n_filters * 8, kernel_size = 3, batchnorm = batchnorm)\n",
    "    p4 = MaxPooling2D((2, 2))(c4)\n",
    "    p4 = Dropout(dropout)(p4)\n",
    "    \n",
    "    c5 = conv2d_block(p4, n_filters = n_filters * 16, kernel_size = 3, batchnorm = batchnorm)\n",
    "    \n",
    "    # Expansive Path\n",
    "    u6 = Conv2DTranspose(n_filters * 8, (3, 3), strides = (2, 2), padding = 'same')(c5)\n",
    "    u6 = concatenate([u6, c4])\n",
    "    u6 = Dropout(dropout)(u6)\n",
    "    c6 = conv2d_block(u6, n_filters * 8, kernel_size = 3, batchnorm = batchnorm)\n",
    "    \n",
    "    u7 = Conv2DTranspose(n_filters * 4, (3, 3), strides = (2, 2), padding = 'same')(c6)\n",
    "    u7 = concatenate([u7, c3])\n",
    "    u7 = Dropout(dropout)(u7)\n",
    "    c7 = conv2d_block(u7, n_filters * 4, kernel_size = 3, batchnorm = batchnorm)\n",
    "    \n",
    "    u8 = Conv2DTranspose(n_filters * 2, (3, 3), strides = (2, 2), padding = 'same')(c7)\n",
    "    u8 = concatenate([u8, c2])\n",
    "    u8 = Dropout(dropout)(u8)\n",
    "    c8 = conv2d_block(u8, n_filters * 2, kernel_size = 3, batchnorm = batchnorm)\n",
    "    \n",
    "    u9 = Conv2DTranspose(n_filters * 1, (3, 3), strides = (2, 2), padding = 'same')(c8)\n",
    "    u9 = concatenate([u9, c1])\n",
    "    u9 = Dropout(dropout)(u9)\n",
    "    c9 = conv2d_block(u9, n_filters * 1, kernel_size = 3, batchnorm = batchnorm)\n",
    "    \n",
    "    outputs = Conv2D(n_classes, (1, 1), activation='sigmoid')(c9)\n",
    "    model = Model(inputs=[input_img], outputs=[outputs])\n",
    "    return model"
   ]
  },
  {
   "cell_type": "code",
   "execution_count": 10,
   "metadata": {
    "_cell_guid": "ee0d8bf5-5968-43c1-861b-53b254aba3b2",
    "_uuid": "fff0582f-7c47-4903-9fef-eae82d1893b7",
    "collapsed": false,
    "execution": {
     "iopub.execute_input": "2022-11-09T12:04:05.347084Z",
     "iopub.status.busy": "2022-11-09T12:04:05.346795Z",
     "iopub.status.idle": "2022-11-09T12:04:11.680340Z",
     "shell.execute_reply": "2022-11-09T12:04:11.679385Z",
     "shell.execute_reply.started": "2022-11-09T12:04:05.347054Z"
    },
    "jupyter": {
     "outputs_hidden": false
    }
   },
   "outputs": [
    {
     "name": "stderr",
     "output_type": "stream",
     "text": [
      "2022-11-09 12:04:05.515727: I tensorflow/stream_executor/cuda/cuda_gpu_executor.cc:937] successful NUMA node read from SysFS had negative value (-1), but there must be at least one NUMA node, so returning NUMA node zero\n",
      "2022-11-09 12:04:05.516780: I tensorflow/stream_executor/cuda/cuda_gpu_executor.cc:937] successful NUMA node read from SysFS had negative value (-1), but there must be at least one NUMA node, so returning NUMA node zero\n",
      "2022-11-09 12:04:05.864303: I tensorflow/stream_executor/cuda/cuda_gpu_executor.cc:937] successful NUMA node read from SysFS had negative value (-1), but there must be at least one NUMA node, so returning NUMA node zero\n",
      "2022-11-09 12:04:05.865158: I tensorflow/stream_executor/cuda/cuda_gpu_executor.cc:937] successful NUMA node read from SysFS had negative value (-1), but there must be at least one NUMA node, so returning NUMA node zero\n",
      "2022-11-09 12:04:05.865920: I tensorflow/stream_executor/cuda/cuda_gpu_executor.cc:937] successful NUMA node read from SysFS had negative value (-1), but there must be at least one NUMA node, so returning NUMA node zero\n",
      "2022-11-09 12:04:05.866666: I tensorflow/stream_executor/cuda/cuda_gpu_executor.cc:937] successful NUMA node read from SysFS had negative value (-1), but there must be at least one NUMA node, so returning NUMA node zero\n",
      "2022-11-09 12:04:05.868073: I tensorflow/core/platform/cpu_feature_guard.cc:142] This TensorFlow binary is optimized with oneAPI Deep Neural Network Library (oneDNN) to use the following CPU instructions in performance-critical operations:  AVX2 AVX512F FMA\n",
      "To enable them in other operations, rebuild TensorFlow with the appropriate compiler flags.\n",
      "2022-11-09 12:04:06.120224: I tensorflow/stream_executor/cuda/cuda_gpu_executor.cc:937] successful NUMA node read from SysFS had negative value (-1), but there must be at least one NUMA node, so returning NUMA node zero\n",
      "2022-11-09 12:04:06.121124: I tensorflow/stream_executor/cuda/cuda_gpu_executor.cc:937] successful NUMA node read from SysFS had negative value (-1), but there must be at least one NUMA node, so returning NUMA node zero\n",
      "2022-11-09 12:04:06.121890: I tensorflow/stream_executor/cuda/cuda_gpu_executor.cc:937] successful NUMA node read from SysFS had negative value (-1), but there must be at least one NUMA node, so returning NUMA node zero\n",
      "2022-11-09 12:04:06.122654: I tensorflow/stream_executor/cuda/cuda_gpu_executor.cc:937] successful NUMA node read from SysFS had negative value (-1), but there must be at least one NUMA node, so returning NUMA node zero\n",
      "2022-11-09 12:04:06.123347: I tensorflow/stream_executor/cuda/cuda_gpu_executor.cc:937] successful NUMA node read from SysFS had negative value (-1), but there must be at least one NUMA node, so returning NUMA node zero\n",
      "2022-11-09 12:04:06.124018: I tensorflow/stream_executor/cuda/cuda_gpu_executor.cc:937] successful NUMA node read from SysFS had negative value (-1), but there must be at least one NUMA node, so returning NUMA node zero\n",
      "2022-11-09 12:04:10.873350: I tensorflow/stream_executor/cuda/cuda_gpu_executor.cc:937] successful NUMA node read from SysFS had negative value (-1), but there must be at least one NUMA node, so returning NUMA node zero\n",
      "2022-11-09 12:04:10.874342: I tensorflow/stream_executor/cuda/cuda_gpu_executor.cc:937] successful NUMA node read from SysFS had negative value (-1), but there must be at least one NUMA node, so returning NUMA node zero\n",
      "2022-11-09 12:04:10.875145: I tensorflow/stream_executor/cuda/cuda_gpu_executor.cc:937] successful NUMA node read from SysFS had negative value (-1), but there must be at least one NUMA node, so returning NUMA node zero\n",
      "2022-11-09 12:04:10.875884: I tensorflow/stream_executor/cuda/cuda_gpu_executor.cc:937] successful NUMA node read from SysFS had negative value (-1), but there must be at least one NUMA node, so returning NUMA node zero\n",
      "2022-11-09 12:04:10.876608: I tensorflow/stream_executor/cuda/cuda_gpu_executor.cc:937] successful NUMA node read from SysFS had negative value (-1), but there must be at least one NUMA node, so returning NUMA node zero\n",
      "2022-11-09 12:04:10.877318: I tensorflow/core/common_runtime/gpu/gpu_device.cc:1510] Created device /job:localhost/replica:0/task:0/device:GPU:0 with 13789 MB memory:  -> device: 0, name: Tesla T4, pci bus id: 0000:00:04.0, compute capability: 7.5\n",
      "2022-11-09 12:04:10.882349: I tensorflow/stream_executor/cuda/cuda_gpu_executor.cc:937] successful NUMA node read from SysFS had negative value (-1), but there must be at least one NUMA node, so returning NUMA node zero\n",
      "2022-11-09 12:04:10.883113: I tensorflow/core/common_runtime/gpu/gpu_device.cc:1510] Created device /job:localhost/replica:0/task:0/device:GPU:1 with 13789 MB memory:  -> device: 1, name: Tesla T4, pci bus id: 0000:00:05.0, compute capability: 7.5\n"
     ]
    },
    {
     "name": "stdout",
     "output_type": "stream",
     "text": [
      "Model: \"model\"\n",
      "__________________________________________________________________________________________________\n",
      "Layer (type)                    Output Shape         Param #     Connected to                     \n",
      "==================================================================================================\n",
      "input_1 (InputLayer)            [(None, 128, 128, 3) 0                                            \n",
      "__________________________________________________________________________________________________\n",
      "conv2d (Conv2D)                 (None, 128, 128, 32) 896         input_1[0][0]                    \n",
      "__________________________________________________________________________________________________\n",
      "batch_normalization (BatchNorma (None, 128, 128, 32) 128         conv2d[0][0]                     \n",
      "__________________________________________________________________________________________________\n",
      "activation (Activation)         (None, 128, 128, 32) 0           batch_normalization[0][0]        \n",
      "__________________________________________________________________________________________________\n",
      "conv2d_1 (Conv2D)               (None, 128, 128, 32) 9248        activation[0][0]                 \n",
      "__________________________________________________________________________________________________\n",
      "batch_normalization_1 (BatchNor (None, 128, 128, 32) 128         conv2d_1[0][0]                   \n",
      "__________________________________________________________________________________________________\n",
      "activation_1 (Activation)       (None, 128, 128, 32) 0           batch_normalization_1[0][0]      \n",
      "__________________________________________________________________________________________________\n",
      "max_pooling2d (MaxPooling2D)    (None, 64, 64, 32)   0           activation_1[0][0]               \n",
      "__________________________________________________________________________________________________\n",
      "dropout (Dropout)               (None, 64, 64, 32)   0           max_pooling2d[0][0]              \n",
      "__________________________________________________________________________________________________\n",
      "conv2d_2 (Conv2D)               (None, 64, 64, 64)   18496       dropout[0][0]                    \n",
      "__________________________________________________________________________________________________\n",
      "batch_normalization_2 (BatchNor (None, 64, 64, 64)   256         conv2d_2[0][0]                   \n",
      "__________________________________________________________________________________________________\n",
      "activation_2 (Activation)       (None, 64, 64, 64)   0           batch_normalization_2[0][0]      \n",
      "__________________________________________________________________________________________________\n",
      "conv2d_3 (Conv2D)               (None, 64, 64, 64)   36928       activation_2[0][0]               \n",
      "__________________________________________________________________________________________________\n",
      "batch_normalization_3 (BatchNor (None, 64, 64, 64)   256         conv2d_3[0][0]                   \n",
      "__________________________________________________________________________________________________\n",
      "activation_3 (Activation)       (None, 64, 64, 64)   0           batch_normalization_3[0][0]      \n",
      "__________________________________________________________________________________________________\n",
      "max_pooling2d_1 (MaxPooling2D)  (None, 32, 32, 64)   0           activation_3[0][0]               \n",
      "__________________________________________________________________________________________________\n",
      "dropout_1 (Dropout)             (None, 32, 32, 64)   0           max_pooling2d_1[0][0]            \n",
      "__________________________________________________________________________________________________\n",
      "conv2d_4 (Conv2D)               (None, 32, 32, 128)  73856       dropout_1[0][0]                  \n",
      "__________________________________________________________________________________________________\n",
      "batch_normalization_4 (BatchNor (None, 32, 32, 128)  512         conv2d_4[0][0]                   \n",
      "__________________________________________________________________________________________________\n",
      "activation_4 (Activation)       (None, 32, 32, 128)  0           batch_normalization_4[0][0]      \n",
      "__________________________________________________________________________________________________\n",
      "conv2d_5 (Conv2D)               (None, 32, 32, 128)  147584      activation_4[0][0]               \n",
      "__________________________________________________________________________________________________\n",
      "batch_normalization_5 (BatchNor (None, 32, 32, 128)  512         conv2d_5[0][0]                   \n",
      "__________________________________________________________________________________________________\n",
      "activation_5 (Activation)       (None, 32, 32, 128)  0           batch_normalization_5[0][0]      \n",
      "__________________________________________________________________________________________________\n",
      "max_pooling2d_2 (MaxPooling2D)  (None, 16, 16, 128)  0           activation_5[0][0]               \n",
      "__________________________________________________________________________________________________\n",
      "dropout_2 (Dropout)             (None, 16, 16, 128)  0           max_pooling2d_2[0][0]            \n",
      "__________________________________________________________________________________________________\n",
      "conv2d_6 (Conv2D)               (None, 16, 16, 256)  295168      dropout_2[0][0]                  \n",
      "__________________________________________________________________________________________________\n",
      "batch_normalization_6 (BatchNor (None, 16, 16, 256)  1024        conv2d_6[0][0]                   \n",
      "__________________________________________________________________________________________________\n",
      "activation_6 (Activation)       (None, 16, 16, 256)  0           batch_normalization_6[0][0]      \n",
      "__________________________________________________________________________________________________\n",
      "conv2d_7 (Conv2D)               (None, 16, 16, 256)  590080      activation_6[0][0]               \n",
      "__________________________________________________________________________________________________\n",
      "batch_normalization_7 (BatchNor (None, 16, 16, 256)  1024        conv2d_7[0][0]                   \n",
      "__________________________________________________________________________________________________\n",
      "activation_7 (Activation)       (None, 16, 16, 256)  0           batch_normalization_7[0][0]      \n",
      "__________________________________________________________________________________________________\n",
      "max_pooling2d_3 (MaxPooling2D)  (None, 8, 8, 256)    0           activation_7[0][0]               \n",
      "__________________________________________________________________________________________________\n",
      "dropout_3 (Dropout)             (None, 8, 8, 256)    0           max_pooling2d_3[0][0]            \n",
      "__________________________________________________________________________________________________\n",
      "conv2d_8 (Conv2D)               (None, 8, 8, 512)    1180160     dropout_3[0][0]                  \n",
      "__________________________________________________________________________________________________\n",
      "batch_normalization_8 (BatchNor (None, 8, 8, 512)    2048        conv2d_8[0][0]                   \n",
      "__________________________________________________________________________________________________\n",
      "activation_8 (Activation)       (None, 8, 8, 512)    0           batch_normalization_8[0][0]      \n",
      "__________________________________________________________________________________________________\n",
      "conv2d_9 (Conv2D)               (None, 8, 8, 512)    2359808     activation_8[0][0]               \n",
      "__________________________________________________________________________________________________\n",
      "batch_normalization_9 (BatchNor (None, 8, 8, 512)    2048        conv2d_9[0][0]                   \n",
      "__________________________________________________________________________________________________\n",
      "activation_9 (Activation)       (None, 8, 8, 512)    0           batch_normalization_9[0][0]      \n",
      "__________________________________________________________________________________________________\n",
      "conv2d_transpose (Conv2DTranspo (None, 16, 16, 256)  1179904     activation_9[0][0]               \n",
      "__________________________________________________________________________________________________\n",
      "concatenate (Concatenate)       (None, 16, 16, 512)  0           conv2d_transpose[0][0]           \n",
      "                                                                 activation_7[0][0]               \n",
      "__________________________________________________________________________________________________\n",
      "dropout_4 (Dropout)             (None, 16, 16, 512)  0           concatenate[0][0]                \n",
      "__________________________________________________________________________________________________\n",
      "conv2d_10 (Conv2D)              (None, 16, 16, 256)  1179904     dropout_4[0][0]                  \n",
      "__________________________________________________________________________________________________\n",
      "batch_normalization_10 (BatchNo (None, 16, 16, 256)  1024        conv2d_10[0][0]                  \n",
      "__________________________________________________________________________________________________\n",
      "activation_10 (Activation)      (None, 16, 16, 256)  0           batch_normalization_10[0][0]     \n",
      "__________________________________________________________________________________________________\n",
      "conv2d_11 (Conv2D)              (None, 16, 16, 256)  590080      activation_10[0][0]              \n",
      "__________________________________________________________________________________________________\n",
      "batch_normalization_11 (BatchNo (None, 16, 16, 256)  1024        conv2d_11[0][0]                  \n",
      "__________________________________________________________________________________________________\n",
      "activation_11 (Activation)      (None, 16, 16, 256)  0           batch_normalization_11[0][0]     \n",
      "__________________________________________________________________________________________________\n",
      "conv2d_transpose_1 (Conv2DTrans (None, 32, 32, 128)  295040      activation_11[0][0]              \n",
      "__________________________________________________________________________________________________\n",
      "concatenate_1 (Concatenate)     (None, 32, 32, 256)  0           conv2d_transpose_1[0][0]         \n",
      "                                                                 activation_5[0][0]               \n",
      "__________________________________________________________________________________________________\n",
      "dropout_5 (Dropout)             (None, 32, 32, 256)  0           concatenate_1[0][0]              \n",
      "__________________________________________________________________________________________________\n",
      "conv2d_12 (Conv2D)              (None, 32, 32, 128)  295040      dropout_5[0][0]                  \n",
      "__________________________________________________________________________________________________\n",
      "batch_normalization_12 (BatchNo (None, 32, 32, 128)  512         conv2d_12[0][0]                  \n",
      "__________________________________________________________________________________________________\n",
      "activation_12 (Activation)      (None, 32, 32, 128)  0           batch_normalization_12[0][0]     \n",
      "__________________________________________________________________________________________________\n",
      "conv2d_13 (Conv2D)              (None, 32, 32, 128)  147584      activation_12[0][0]              \n",
      "__________________________________________________________________________________________________\n",
      "batch_normalization_13 (BatchNo (None, 32, 32, 128)  512         conv2d_13[0][0]                  \n",
      "__________________________________________________________________________________________________\n",
      "activation_13 (Activation)      (None, 32, 32, 128)  0           batch_normalization_13[0][0]     \n",
      "__________________________________________________________________________________________________\n",
      "conv2d_transpose_2 (Conv2DTrans (None, 64, 64, 64)   73792       activation_13[0][0]              \n",
      "__________________________________________________________________________________________________\n",
      "concatenate_2 (Concatenate)     (None, 64, 64, 128)  0           conv2d_transpose_2[0][0]         \n",
      "                                                                 activation_3[0][0]               \n",
      "__________________________________________________________________________________________________\n",
      "dropout_6 (Dropout)             (None, 64, 64, 128)  0           concatenate_2[0][0]              \n",
      "__________________________________________________________________________________________________\n",
      "conv2d_14 (Conv2D)              (None, 64, 64, 64)   73792       dropout_6[0][0]                  \n",
      "__________________________________________________________________________________________________\n",
      "batch_normalization_14 (BatchNo (None, 64, 64, 64)   256         conv2d_14[0][0]                  \n",
      "__________________________________________________________________________________________________\n",
      "activation_14 (Activation)      (None, 64, 64, 64)   0           batch_normalization_14[0][0]     \n",
      "__________________________________________________________________________________________________\n",
      "conv2d_15 (Conv2D)              (None, 64, 64, 64)   36928       activation_14[0][0]              \n",
      "__________________________________________________________________________________________________\n",
      "batch_normalization_15 (BatchNo (None, 64, 64, 64)   256         conv2d_15[0][0]                  \n",
      "__________________________________________________________________________________________________\n",
      "activation_15 (Activation)      (None, 64, 64, 64)   0           batch_normalization_15[0][0]     \n",
      "__________________________________________________________________________________________________\n",
      "conv2d_transpose_3 (Conv2DTrans (None, 128, 128, 32) 18464       activation_15[0][0]              \n",
      "__________________________________________________________________________________________________\n",
      "concatenate_3 (Concatenate)     (None, 128, 128, 64) 0           conv2d_transpose_3[0][0]         \n",
      "                                                                 activation_1[0][0]               \n",
      "__________________________________________________________________________________________________\n",
      "dropout_7 (Dropout)             (None, 128, 128, 64) 0           concatenate_3[0][0]              \n",
      "__________________________________________________________________________________________________\n",
      "conv2d_16 (Conv2D)              (None, 128, 128, 32) 18464       dropout_7[0][0]                  \n",
      "__________________________________________________________________________________________________\n",
      "batch_normalization_16 (BatchNo (None, 128, 128, 32) 128         conv2d_16[0][0]                  \n",
      "__________________________________________________________________________________________________\n",
      "activation_16 (Activation)      (None, 128, 128, 32) 0           batch_normalization_16[0][0]     \n",
      "__________________________________________________________________________________________________\n",
      "conv2d_17 (Conv2D)              (None, 128, 128, 32) 9248        activation_16[0][0]              \n",
      "__________________________________________________________________________________________________\n",
      "batch_normalization_17 (BatchNo (None, 128, 128, 32) 128         conv2d_17[0][0]                  \n",
      "__________________________________________________________________________________________________\n",
      "activation_17 (Activation)      (None, 128, 128, 32) 0           batch_normalization_17[0][0]     \n",
      "__________________________________________________________________________________________________\n",
      "conv2d_18 (Conv2D)              (None, 128, 128, 1)  33          activation_17[0][0]              \n",
      "==================================================================================================\n",
      "Total params: 8,642,273\n",
      "Trainable params: 8,636,385\n",
      "Non-trainable params: 5,888\n",
      "__________________________________________________________________________________________________\n"
     ]
    }
   ],
   "source": [
    "input_img = Input(shape=(128,128,3))\n",
    "model = get_unet(input_img, n_filters = 32, dropout = 0.1, batchnorm = True, n_classes = 1)\n",
    "model.summary()"
   ]
  },
  {
   "cell_type": "code",
   "execution_count": 11,
   "metadata": {
    "_cell_guid": "45ddac44-4db6-4e24-a160-ee3e51ef0616",
    "_uuid": "00239446-c076-4d40-916a-b7069e1b4a45",
    "collapsed": false,
    "execution": {
     "iopub.execute_input": "2022-11-09T12:04:11.682323Z",
     "iopub.status.busy": "2022-11-09T12:04:11.681666Z",
     "iopub.status.idle": "2022-11-09T12:04:11.691361Z",
     "shell.execute_reply": "2022-11-09T12:04:11.690478Z",
     "shell.execute_reply.started": "2022-11-09T12:04:11.682286Z"
    },
    "jupyter": {
     "outputs_hidden": false
    }
   },
   "outputs": [],
   "source": [
    "def recall_m(y_true, y_pred):\n",
    "    true_positives = K.sum(K.round(K.clip(y_true * y_pred, 0, 1)))\n",
    "    possible_positives = K.sum(K.round(K.clip(y_true, 0, 1)))\n",
    "    recall = true_positives / (possible_positives + K.epsilon())\n",
    "    return recall\n",
    "\n",
    "def precision_m(y_true, y_pred):\n",
    "    true_positives = K.sum(K.round(K.clip(y_true * y_pred, 0, 1)))\n",
    "    predicted_positives = K.sum(K.round(K.clip(y_pred, 0, 1)))\n",
    "    precision = true_positives / (predicted_positives + K.epsilon())\n",
    "    return precision\n",
    "\n",
    "def f1_m(y_true, y_pred):\n",
    "    precision = precision_m(y_true, y_pred)\n",
    "    recall = recall_m(y_true, y_pred)\n",
    "    return 2*((precision*recall)/(precision+recall+K.epsilon()))"
   ]
  },
  {
   "cell_type": "code",
   "execution_count": 12,
   "metadata": {
    "_cell_guid": "bcf9027f-c11a-4bb3-a545-b8397ad71345",
    "_uuid": "36fb85d8-704a-42e1-a37b-26d6d093957e",
    "collapsed": false,
    "execution": {
     "iopub.execute_input": "2022-11-09T12:04:11.693235Z",
     "iopub.status.busy": "2022-11-09T12:04:11.692767Z",
     "iopub.status.idle": "2022-11-09T12:04:11.711010Z",
     "shell.execute_reply": "2022-11-09T12:04:11.710038Z",
     "shell.execute_reply.started": "2022-11-09T12:04:11.693198Z"
    },
    "jupyter": {
     "outputs_hidden": false
    }
   },
   "outputs": [],
   "source": [
    "model.compile(optimizer = \"Adam\", loss = \"binary_crossentropy\", metrics = ['acc',f1_m]) # precision_m, recall_m\n",
    "callback = EarlyStopping(monitor=\"loss\", patience=5)"
   ]
  },
  {
   "cell_type": "code",
   "execution_count": 13,
   "metadata": {
    "_cell_guid": "8a8986aa-3ff5-4a8d-9c45-77b1da6ddb46",
    "_uuid": "e4c7d160-8172-4433-a7f0-97aa43d55179",
    "collapsed": false,
    "execution": {
     "iopub.execute_input": "2022-11-09T12:04:11.712745Z",
     "iopub.status.busy": "2022-11-09T12:04:11.712334Z",
     "iopub.status.idle": "2022-11-09T12:18:09.898122Z",
     "shell.execute_reply": "2022-11-09T12:18:09.897191Z",
     "shell.execute_reply.started": "2022-11-09T12:04:11.712707Z"
    },
    "jupyter": {
     "outputs_hidden": false
    }
   },
   "outputs": [
    {
     "name": "stderr",
     "output_type": "stream",
     "text": [
      "2022-11-09 12:04:11.891639: W tensorflow/core/framework/cpu_allocator_impl.cc:80] Allocation of 491913216 exceeds 10% of free system memory.\n",
      "2022-11-09 12:04:12.424395: W tensorflow/core/framework/cpu_allocator_impl.cc:80] Allocation of 327942144 exceeds 10% of free system memory.\n",
      "2022-11-09 12:04:12.827627: W tensorflow/core/framework/cpu_allocator_impl.cc:80] Allocation of 491913216 exceeds 10% of free system memory.\n",
      "2022-11-09 12:04:13.219286: W tensorflow/core/framework/cpu_allocator_impl.cc:80] Allocation of 327942144 exceeds 10% of free system memory.\n",
      "2022-11-09 12:04:13.522752: I tensorflow/compiler/mlir/mlir_graph_optimization_pass.cc:185] None of the MLIR Optimization Passes are enabled (registered 2)\n"
     ]
    },
    {
     "name": "stdout",
     "output_type": "stream",
     "text": [
      "Epoch 1/50\n"
     ]
    },
    {
     "name": "stderr",
     "output_type": "stream",
     "text": [
      "2022-11-09 12:04:17.909853: I tensorflow/stream_executor/cuda/cuda_dnn.cc:369] Loaded cuDNN version 8005\n"
     ]
    },
    {
     "name": "stdout",
     "output_type": "stream",
     "text": [
      "79/79 [==============================] - 37s 234ms/step - loss: 0.2396 - acc: 0.9032 - f1_m: 0.9277 - val_loss: 0.9053 - val_acc: 0.7464 - val_f1_m: 0.8364\n",
      "Epoch 2/50\n",
      "79/79 [==============================] - 15s 194ms/step - loss: 0.1500 - acc: 0.9415 - f1_m: 0.9568 - val_loss: 1.2142 - val_acc: 0.7168 - val_f1_m: 0.8260\n",
      "Epoch 3/50\n",
      "79/79 [==============================] - 15s 195ms/step - loss: 0.1215 - acc: 0.9531 - f1_m: 0.9655 - val_loss: 0.2202 - val_acc: 0.9163 - val_f1_m: 0.9392\n",
      "Epoch 4/50\n",
      "79/79 [==============================] - 16s 198ms/step - loss: 0.1140 - acc: 0.9563 - f1_m: 0.9678 - val_loss: 0.1820 - val_acc: 0.9407 - val_f1_m: 0.9567\n",
      "Epoch 5/50\n",
      "79/79 [==============================] - 16s 200ms/step - loss: 0.0984 - acc: 0.9615 - f1_m: 0.9717 - val_loss: 0.1435 - val_acc: 0.9513 - val_f1_m: 0.9640\n",
      "Epoch 6/50\n",
      "79/79 [==============================] - 16s 203ms/step - loss: 0.0925 - acc: 0.9642 - f1_m: 0.9733 - val_loss: 0.1041 - val_acc: 0.9640 - val_f1_m: 0.9730\n",
      "Epoch 7/50\n",
      "79/79 [==============================] - 16s 206ms/step - loss: 0.0866 - acc: 0.9665 - f1_m: 0.9752 - val_loss: 0.1088 - val_acc: 0.9611 - val_f1_m: 0.9710\n",
      "Epoch 8/50\n",
      "79/79 [==============================] - 16s 208ms/step - loss: 0.0830 - acc: 0.9681 - f1_m: 0.9764 - val_loss: 0.0980 - val_acc: 0.9628 - val_f1_m: 0.9730\n",
      "Epoch 9/50\n",
      "79/79 [==============================] - 16s 207ms/step - loss: 0.0821 - acc: 0.9681 - f1_m: 0.9763 - val_loss: 0.1128 - val_acc: 0.9650 - val_f1_m: 0.9737\n",
      "Epoch 10/50\n",
      "79/79 [==============================] - 16s 206ms/step - loss: 0.0762 - acc: 0.9704 - f1_m: 0.9783 - val_loss: 0.0842 - val_acc: 0.9692 - val_f1_m: 0.9768\n",
      "Epoch 11/50\n",
      "79/79 [==============================] - 16s 206ms/step - loss: 0.0689 - acc: 0.9737 - f1_m: 0.9807 - val_loss: 0.0819 - val_acc: 0.9701 - val_f1_m: 0.9774\n",
      "Epoch 12/50\n",
      "79/79 [==============================] - 16s 207ms/step - loss: 0.0671 - acc: 0.9744 - f1_m: 0.9812 - val_loss: 0.0845 - val_acc: 0.9703 - val_f1_m: 0.9780\n",
      "Epoch 13/50\n",
      "79/79 [==============================] - 16s 208ms/step - loss: 0.0654 - acc: 0.9747 - f1_m: 0.9812 - val_loss: 0.0808 - val_acc: 0.9722 - val_f1_m: 0.9793\n",
      "Epoch 14/50\n",
      "79/79 [==============================] - 16s 207ms/step - loss: 0.0621 - acc: 0.9761 - f1_m: 0.9824 - val_loss: 0.0965 - val_acc: 0.9671 - val_f1_m: 0.9753\n",
      "Epoch 15/50\n",
      "79/79 [==============================] - 16s 207ms/step - loss: 0.0591 - acc: 0.9771 - f1_m: 0.9831 - val_loss: 0.1061 - val_acc: 0.9673 - val_f1_m: 0.9753\n",
      "Epoch 16/50\n",
      "79/79 [==============================] - 16s 206ms/step - loss: 0.0577 - acc: 0.9778 - f1_m: 0.9837 - val_loss: 0.0833 - val_acc: 0.9647 - val_f1_m: 0.9743\n",
      "Epoch 17/50\n",
      "79/79 [==============================] - 16s 207ms/step - loss: 0.0534 - acc: 0.9797 - f1_m: 0.9850 - val_loss: 0.0803 - val_acc: 0.9716 - val_f1_m: 0.9789\n",
      "Epoch 18/50\n",
      "79/79 [==============================] - 16s 206ms/step - loss: 0.0541 - acc: 0.9794 - f1_m: 0.9849 - val_loss: 0.0676 - val_acc: 0.9748 - val_f1_m: 0.9814\n",
      "Epoch 19/50\n",
      "79/79 [==============================] - 16s 208ms/step - loss: 0.0482 - acc: 0.9817 - f1_m: 0.9866 - val_loss: 0.0782 - val_acc: 0.9707 - val_f1_m: 0.9783\n",
      "Epoch 20/50\n",
      "79/79 [==============================] - 16s 207ms/step - loss: 0.0472 - acc: 0.9820 - f1_m: 0.9867 - val_loss: 0.0723 - val_acc: 0.9744 - val_f1_m: 0.9811\n",
      "Epoch 21/50\n",
      "79/79 [==============================] - 16s 207ms/step - loss: 0.0456 - acc: 0.9824 - f1_m: 0.9870 - val_loss: 0.0810 - val_acc: 0.9720 - val_f1_m: 0.9790\n",
      "Epoch 22/50\n",
      "79/79 [==============================] - 16s 207ms/step - loss: 0.0431 - acc: 0.9834 - f1_m: 0.9878 - val_loss: 0.0649 - val_acc: 0.9757 - val_f1_m: 0.9820\n",
      "Epoch 23/50\n",
      "79/79 [==============================] - 16s 208ms/step - loss: 0.0408 - acc: 0.9844 - f1_m: 0.9885 - val_loss: 0.0651 - val_acc: 0.9761 - val_f1_m: 0.9823\n",
      "Epoch 24/50\n",
      "79/79 [==============================] - 16s 208ms/step - loss: 0.0371 - acc: 0.9857 - f1_m: 0.9895 - val_loss: 0.0796 - val_acc: 0.9748 - val_f1_m: 0.9812\n",
      "Epoch 25/50\n",
      "79/79 [==============================] - 16s 208ms/step - loss: 0.0387 - acc: 0.9851 - f1_m: 0.9890 - val_loss: 0.0773 - val_acc: 0.9734 - val_f1_m: 0.9804\n",
      "Epoch 26/50\n",
      "79/79 [==============================] - 16s 208ms/step - loss: 0.0433 - acc: 0.9833 - f1_m: 0.9876 - val_loss: 0.0975 - val_acc: 0.9708 - val_f1_m: 0.9780\n",
      "Epoch 27/50\n",
      "79/79 [==============================] - 16s 208ms/step - loss: 0.0515 - acc: 0.9801 - f1_m: 0.9853 - val_loss: 0.1519 - val_acc: 0.9654 - val_f1_m: 0.9739\n",
      "Epoch 28/50\n",
      "79/79 [==============================] - 16s 208ms/step - loss: 0.0412 - acc: 0.9842 - f1_m: 0.9884 - val_loss: 0.0671 - val_acc: 0.9782 - val_f1_m: 0.9837\n",
      "Epoch 29/50\n",
      "79/79 [==============================] - 16s 208ms/step - loss: 0.0367 - acc: 0.9858 - f1_m: 0.9896 - val_loss: 0.0670 - val_acc: 0.9770 - val_f1_m: 0.9829\n",
      "Epoch 30/50\n",
      "79/79 [==============================] - 16s 208ms/step - loss: 0.0360 - acc: 0.9861 - f1_m: 0.9897 - val_loss: 0.0691 - val_acc: 0.9763 - val_f1_m: 0.9823\n",
      "Epoch 31/50\n",
      "79/79 [==============================] - 16s 208ms/step - loss: 0.0365 - acc: 0.9857 - f1_m: 0.9895 - val_loss: 0.0673 - val_acc: 0.9766 - val_f1_m: 0.9827\n",
      "Epoch 32/50\n",
      "79/79 [==============================] - 16s 208ms/step - loss: 0.0328 - acc: 0.9873 - f1_m: 0.9907 - val_loss: 0.0683 - val_acc: 0.9768 - val_f1_m: 0.9828\n",
      "Epoch 33/50\n",
      "79/79 [==============================] - 16s 207ms/step - loss: 0.0522 - acc: 0.9805 - f1_m: 0.9856 - val_loss: 0.1832 - val_acc: 0.9602 - val_f1_m: 0.9688\n",
      "Epoch 34/50\n",
      "79/79 [==============================] - 16s 207ms/step - loss: 0.0359 - acc: 0.9861 - f1_m: 0.9897 - val_loss: 0.0884 - val_acc: 0.9728 - val_f1_m: 0.9800\n",
      "Epoch 35/50\n",
      "79/79 [==============================] - 16s 208ms/step - loss: 0.0312 - acc: 0.9880 - f1_m: 0.9912 - val_loss: 0.0663 - val_acc: 0.9769 - val_f1_m: 0.9828\n",
      "Epoch 36/50\n",
      "79/79 [==============================] - 16s 208ms/step - loss: 0.0294 - acc: 0.9885 - f1_m: 0.9915 - val_loss: 0.0876 - val_acc: 0.9694 - val_f1_m: 0.9771\n",
      "Epoch 37/50\n",
      "79/79 [==============================] - 16s 208ms/step - loss: 0.0324 - acc: 0.9874 - f1_m: 0.9908 - val_loss: 0.0645 - val_acc: 0.9775 - val_f1_m: 0.9833\n",
      "Epoch 38/50\n",
      "79/79 [==============================] - 16s 208ms/step - loss: 0.0282 - acc: 0.9890 - f1_m: 0.9918 - val_loss: 0.0646 - val_acc: 0.9783 - val_f1_m: 0.9838\n",
      "Epoch 39/50\n",
      "79/79 [==============================] - 16s 208ms/step - loss: 0.0311 - acc: 0.9878 - f1_m: 0.9910 - val_loss: 0.1280 - val_acc: 0.9642 - val_f1_m: 0.9739\n",
      "Epoch 40/50\n",
      "79/79 [==============================] - 16s 208ms/step - loss: 0.0381 - acc: 0.9854 - f1_m: 0.9892 - val_loss: 0.1251 - val_acc: 0.9705 - val_f1_m: 0.9778\n",
      "Epoch 41/50\n",
      "79/79 [==============================] - 16s 209ms/step - loss: 0.0310 - acc: 0.9879 - f1_m: 0.9910 - val_loss: 0.0700 - val_acc: 0.9779 - val_f1_m: 0.9835\n",
      "Epoch 42/50\n",
      "79/79 [==============================] - 16s 208ms/step - loss: 0.0278 - acc: 0.9891 - f1_m: 0.9920 - val_loss: 0.0667 - val_acc: 0.9797 - val_f1_m: 0.9847\n",
      "Epoch 43/50\n",
      "79/79 [==============================] - 16s 208ms/step - loss: 0.0243 - acc: 0.9904 - f1_m: 0.9929 - val_loss: 0.0655 - val_acc: 0.9797 - val_f1_m: 0.9848\n",
      "Epoch 44/50\n",
      "79/79 [==============================] - 16s 207ms/step - loss: 0.0235 - acc: 0.9908 - f1_m: 0.9932 - val_loss: 0.0659 - val_acc: 0.9802 - val_f1_m: 0.9852\n",
      "Epoch 45/50\n",
      "79/79 [==============================] - 16s 208ms/step - loss: 0.0244 - acc: 0.9904 - f1_m: 0.9929 - val_loss: 0.0701 - val_acc: 0.9795 - val_f1_m: 0.9847\n",
      "Epoch 46/50\n",
      "79/79 [==============================] - 16s 208ms/step - loss: 0.0233 - acc: 0.9908 - f1_m: 0.9931 - val_loss: 0.0676 - val_acc: 0.9797 - val_f1_m: 0.9848\n",
      "Epoch 47/50\n",
      "79/79 [==============================] - 16s 208ms/step - loss: 0.0240 - acc: 0.9905 - f1_m: 0.9930 - val_loss: 0.0863 - val_acc: 0.9786 - val_f1_m: 0.9839\n",
      "Epoch 48/50\n",
      "79/79 [==============================] - 16s 208ms/step - loss: 0.0228 - acc: 0.9910 - f1_m: 0.9933 - val_loss: 0.0698 - val_acc: 0.9797 - val_f1_m: 0.9849\n",
      "Epoch 49/50\n",
      "79/79 [==============================] - 16s 207ms/step - loss: 0.0222 - acc: 0.9912 - f1_m: 0.9935 - val_loss: 0.0669 - val_acc: 0.9808 - val_f1_m: 0.9857\n",
      "Epoch 50/50\n",
      "79/79 [==============================] - 16s 208ms/step - loss: 0.0209 - acc: 0.9917 - f1_m: 0.9939 - val_loss: 0.0715 - val_acc: 0.9799 - val_f1_m: 0.9849\n"
     ]
    }
   ],
   "source": [
    "var = model.fit(X_train, y_train, epochs=50, callbacks = callback, validation_data=(X_test, y_test))"
   ]
  },
  {
   "cell_type": "code",
   "execution_count": 14,
   "metadata": {
    "execution": {
     "iopub.execute_input": "2022-11-09T12:18:09.900524Z",
     "iopub.status.busy": "2022-11-09T12:18:09.900181Z",
     "iopub.status.idle": "2022-11-09T12:18:10.111716Z",
     "shell.execute_reply": "2022-11-09T12:18:10.110837Z",
     "shell.execute_reply.started": "2022-11-09T12:18:09.900487Z"
    }
   },
   "outputs": [
    {
     "data": {
      "image/png": "[encoded data removed]",
      "text/plain": [
       "<Figure size 432x288 with 1 Axes>"
      ]
     },
     "metadata": {
      "needs_background": "light"
     },
     "output_type": "display_data"
    }
   ],
   "source": [
    "# Plot of the accuracy of the U-net model over each epoch\n",
    "\n",
    "plt.plot(var.history['acc'])\n",
    "plt.plot(var.history['val_acc'])\n",
    "plt.title('U-net accuracy')\n",
    "plt.ylabel('Score')\n",
    "plt.xlabel('Epoch')\n",
    "plt.legend(['Train', 'Val'], loc='upper left')\n",
    "plt.show()"
   ]
  },
  {
   "cell_type": "code",
   "execution_count": 15,
   "metadata": {
    "execution": {
     "iopub.execute_input": "2022-11-09T12:18:10.115955Z",
     "iopub.status.busy": "2022-11-09T12:18:10.115673Z",
     "iopub.status.idle": "2022-11-09T12:18:10.332801Z",
     "shell.execute_reply": "2022-11-09T12:18:10.331898Z",
     "shell.execute_reply.started": "2022-11-09T12:18:10.115930Z"
    }
   },
   "outputs": [
    {
     "data": {
      "image/png": "[encoded data removed]",
      "text/plain": [
       "<Figure size 432x288 with 1 Axes>"
      ]
     },
     "metadata": {
      "needs_background": "light"
     },
     "output_type": "display_data"
    }
   ],
   "source": [
    "# Plot of the f1-score of the U-net model over each epoch\n",
    "\n",
    "plt.plot(var.history['f1_m'])\n",
    "plt.plot(var.history['val_f1_m'])\n",
    "plt.title('U-net f1-score')\n",
    "plt.ylabel('Score')\n",
    "plt.xlabel('Epoch')\n",
    "plt.legend(['Train', 'Val'], loc='upper left')\n",
    "plt.show()"
   ]
  },
  {
   "cell_type": "code",
   "execution_count": 16,
   "metadata": {
    "execution": {
     "iopub.execute_input": "2022-11-09T12:18:10.335026Z",
     "iopub.status.busy": "2022-11-09T12:18:10.334242Z",
     "iopub.status.idle": "2022-11-09T12:18:10.542851Z",
     "shell.execute_reply": "2022-11-09T12:18:10.541929Z",
     "shell.execute_reply.started": "2022-11-09T12:18:10.334987Z"
    }
   },
   "outputs": [
    {
     "data": {
      "image/png": "[encoded data removed]",
      "text/plain": [
       "<Figure size 432x288 with 1 Axes>"
      ]
     },
     "metadata": {
      "needs_background": "light"
     },
     "output_type": "display_data"
    }
   ],
   "source": [
    "#Plot of the loss of the U-net model over each epoch\n",
    "\n",
    "plt.plot(var.history['loss'])\n",
    "plt.plot(var.history['val_loss'])\n",
    "plt.title('U-net loss')\n",
    "plt.ylabel('Loss')\n",
    "plt.xlabel('Epoch')\n",
    "plt.legend(['Train', 'Val'], loc='upper right')\n",
    "plt.show()"
   ]
  },
  {
   "cell_type": "markdown",
   "metadata": {
    "_cell_guid": "3f6b2815-a413-4ed5-9b8a-558258bac8df",
    "_uuid": "3d928ac7-0f55-4063-8cd3-c0163088f236"
   },
   "source": [
    "One can see that the training accuracy and f1-score is a small bit higher than the validation score. This means that the manual U-net model overfits a tiny bit. Furthermore, one can see that the loss gets smaller for each epoch."
   ]
  },
  {
   "cell_type": "code",
   "execution_count": 17,
   "metadata": {
    "_cell_guid": "0ba25042-6cb3-40fe-b791-5e00cef56bbe",
    "_uuid": "dd9b3123-3fe5-4db9-a3af-3105e195793c",
    "collapsed": false,
    "execution": {
     "iopub.execute_input": "2022-11-09T12:18:10.545329Z",
     "iopub.status.busy": "2022-11-09T12:18:10.544291Z",
     "iopub.status.idle": "2022-11-09T12:18:10.570361Z",
     "shell.execute_reply": "2022-11-09T12:18:10.569304Z",
     "shell.execute_reply.started": "2022-11-09T12:18:10.545288Z"
    },
    "jupyter": {
     "outputs_hidden": false
    }
   },
   "outputs": [],
   "source": [
    "# Code and model training for your best transfer learning model (point 4 in Canvas)\n",
    "\n",
    "def get_unet_vg16(input_img, n_filters = 16, dropout = 0.1, batchnorm = True, n_classes = 2):\n",
    "    \n",
    "    encode_model = vg(input_tensor=input_img, include_top = False, weights=\"imagenet\")\n",
    "    \n",
    "    for layer in encode_model.layers:\n",
    "        layer.trainable = False\n",
    "        \n",
    "    encoder_output = encode_model.get_layer(\"block5_conv3\").output\n",
    "    \n",
    "    # Expansive Path\n",
    "    u6 = Conv2DTranspose(n_filters * 8, (3, 3), strides = (2, 2), padding = 'same')(encoder_output)\n",
    "    u6 = concatenate([u6, encode_model.get_layer(\"block4_conv3\").output])\n",
    "    u6 = Dropout(dropout)(u6)\n",
    "    c6 = conv2d_block(u6, n_filters * 8, kernel_size = 3, batchnorm = batchnorm)\n",
    "    \n",
    "    u7 = Conv2DTranspose(n_filters * 4, (3, 3), strides = (2, 2), padding = 'same')(c6)\n",
    "    u7 = concatenate([u7, encode_model.get_layer(\"block3_conv3\").output])\n",
    "    u7 = Dropout(dropout)(u7)\n",
    "    c7 = conv2d_block(u7, n_filters * 4, kernel_size = 3, batchnorm = batchnorm)\n",
    "    \n",
    "    u8 = Conv2DTranspose(n_filters * 2, (3, 3), strides = (2, 2), padding = 'same')(c7)\n",
    "    u8 = concatenate([u8, encode_model.get_layer(\"block2_conv2\").output])\n",
    "    u8 = Dropout(dropout)(u8)\n",
    "    c8 = conv2d_block(u8, n_filters * 2, kernel_size = 3, batchnorm = batchnorm)\n",
    "    \n",
    "    u9 = Conv2DTranspose(n_filters * 1, (3, 3), strides = (2, 2), padding = 'same')(c8)\n",
    "    u9 = concatenate([u9, encode_model.get_layer(\"block1_conv2\").output])\n",
    "    u9 = Dropout(dropout)(u9)\n",
    "    c9 = conv2d_block(u9, n_filters * 1, kernel_size = 3, batchnorm = batchnorm)\n",
    "    \n",
    "    outputs_vg = Conv2D(n_classes, (1, 1), padding = 'same', activation='sigmoid')(c9)\n",
    "    vg_model = Model(inputs=[encode_model.input], outputs=[outputs_vg])\n",
    "    return vg_model"
   ]
  },
  {
   "cell_type": "code",
   "execution_count": 18,
   "metadata": {
    "_cell_guid": "7a8dcf82-9007-4a2b-a375-dfa8d5c3a78f",
    "_uuid": "b8b31b77-0e1e-4246-89e2-101e803e582e",
    "collapsed": false,
    "execution": {
     "iopub.execute_input": "2022-11-09T12:18:10.572669Z",
     "iopub.status.busy": "2022-11-09T12:18:10.571907Z",
     "iopub.status.idle": "2022-11-09T12:18:11.465073Z",
     "shell.execute_reply": "2022-11-09T12:18:11.464079Z",
     "shell.execute_reply.started": "2022-11-09T12:18:10.572633Z"
    },
    "jupyter": {
     "outputs_hidden": false
    }
   },
   "outputs": [
    {
     "name": "stdout",
     "output_type": "stream",
     "text": [
      "Downloading data from https://storage.googleapis.com/tensorflow/keras-applications/vgg16/vgg16_weights_tf_dim_ordering_tf_kernels_notop.h5\n",
      "58892288/58889256 [==============================] - 0s 0us/step\n",
      "58900480/58889256 [==============================] - 0s 0us/step\n",
      "Model: \"model_1\"\n",
      "__________________________________________________________________________________________________\n",
      "Layer (type)                    Output Shape         Param #     Connected to                     \n",
      "==================================================================================================\n",
      "input_2 (InputLayer)            [(None, 128, 128, 3) 0                                            \n",
      "__________________________________________________________________________________________________\n",
      "block1_conv1 (Conv2D)           (None, 128, 128, 64) 1792        input_2[0][0]                    \n",
      "__________________________________________________________________________________________________\n",
      "block1_conv2 (Conv2D)           (None, 128, 128, 64) 36928       block1_conv1[0][0]               \n",
      "__________________________________________________________________________________________________\n",
      "block1_pool (MaxPooling2D)      (None, 64, 64, 64)   0           block1_conv2[0][0]               \n",
      "__________________________________________________________________________________________________\n",
      "block2_conv1 (Conv2D)           (None, 64, 64, 128)  73856       block1_pool[0][0]                \n",
      "__________________________________________________________________________________________________\n",
      "block2_conv2 (Conv2D)           (None, 64, 64, 128)  147584      block2_conv1[0][0]               \n",
      "__________________________________________________________________________________________________\n",
      "block2_pool (MaxPooling2D)      (None, 32, 32, 128)  0           block2_conv2[0][0]               \n",
      "__________________________________________________________________________________________________\n",
      "block3_conv1 (Conv2D)           (None, 32, 32, 256)  295168      block2_pool[0][0]                \n",
      "__________________________________________________________________________________________________\n",
      "block3_conv2 (Conv2D)           (None, 32, 32, 256)  590080      block3_conv1[0][0]               \n",
      "__________________________________________________________________________________________________\n",
      "block3_conv3 (Conv2D)           (None, 32, 32, 256)  590080      block3_conv2[0][0]               \n",
      "__________________________________________________________________________________________________\n",
      "block3_pool (MaxPooling2D)      (None, 16, 16, 256)  0           block3_conv3[0][0]               \n",
      "__________________________________________________________________________________________________\n",
      "block4_conv1 (Conv2D)           (None, 16, 16, 512)  1180160     block3_pool[0][0]                \n",
      "__________________________________________________________________________________________________\n",
      "block4_conv2 (Conv2D)           (None, 16, 16, 512)  2359808     block4_conv1[0][0]               \n",
      "__________________________________________________________________________________________________\n",
      "block4_conv3 (Conv2D)           (None, 16, 16, 512)  2359808     block4_conv2[0][0]               \n",
      "__________________________________________________________________________________________________\n",
      "block4_pool (MaxPooling2D)      (None, 8, 8, 512)    0           block4_conv3[0][0]               \n",
      "__________________________________________________________________________________________________\n",
      "block5_conv1 (Conv2D)           (None, 8, 8, 512)    2359808     block4_pool[0][0]                \n",
      "__________________________________________________________________________________________________\n",
      "block5_conv2 (Conv2D)           (None, 8, 8, 512)    2359808     block5_conv1[0][0]               \n",
      "__________________________________________________________________________________________________\n",
      "block5_conv3 (Conv2D)           (None, 8, 8, 512)    2359808     block5_conv2[0][0]               \n",
      "__________________________________________________________________________________________________\n",
      "conv2d_transpose_4 (Conv2DTrans (None, 16, 16, 512)  2359808     block5_conv3[0][0]               \n",
      "__________________________________________________________________________________________________\n",
      "concatenate_4 (Concatenate)     (None, 16, 16, 1024) 0           conv2d_transpose_4[0][0]         \n",
      "                                                                 block4_conv3[0][0]               \n",
      "__________________________________________________________________________________________________\n",
      "dropout_8 (Dropout)             (None, 16, 16, 1024) 0           concatenate_4[0][0]              \n",
      "__________________________________________________________________________________________________\n",
      "conv2d_19 (Conv2D)              (None, 16, 16, 512)  4719104     dropout_8[0][0]                  \n",
      "__________________________________________________________________________________________________\n",
      "batch_normalization_18 (BatchNo (None, 16, 16, 512)  2048        conv2d_19[0][0]                  \n",
      "__________________________________________________________________________________________________\n",
      "activation_18 (Activation)      (None, 16, 16, 512)  0           batch_normalization_18[0][0]     \n",
      "__________________________________________________________________________________________________\n",
      "conv2d_20 (Conv2D)              (None, 16, 16, 512)  2359808     activation_18[0][0]              \n",
      "__________________________________________________________________________________________________\n",
      "batch_normalization_19 (BatchNo (None, 16, 16, 512)  2048        conv2d_20[0][0]                  \n",
      "__________________________________________________________________________________________________\n",
      "activation_19 (Activation)      (None, 16, 16, 512)  0           batch_normalization_19[0][0]     \n",
      "__________________________________________________________________________________________________\n",
      "conv2d_transpose_5 (Conv2DTrans (None, 32, 32, 256)  1179904     activation_19[0][0]              \n",
      "__________________________________________________________________________________________________\n",
      "concatenate_5 (Concatenate)     (None, 32, 32, 512)  0           conv2d_transpose_5[0][0]         \n",
      "                                                                 block3_conv3[0][0]               \n",
      "__________________________________________________________________________________________________\n",
      "dropout_9 (Dropout)             (None, 32, 32, 512)  0           concatenate_5[0][0]              \n",
      "__________________________________________________________________________________________________\n",
      "conv2d_21 (Conv2D)              (None, 32, 32, 256)  1179904     dropout_9[0][0]                  \n",
      "__________________________________________________________________________________________________\n",
      "batch_normalization_20 (BatchNo (None, 32, 32, 256)  1024        conv2d_21[0][0]                  \n",
      "__________________________________________________________________________________________________\n",
      "activation_20 (Activation)      (None, 32, 32, 256)  0           batch_normalization_20[0][0]     \n",
      "__________________________________________________________________________________________________\n",
      "conv2d_22 (Conv2D)              (None, 32, 32, 256)  590080      activation_20[0][0]              \n",
      "__________________________________________________________________________________________________\n",
      "batch_normalization_21 (BatchNo (None, 32, 32, 256)  1024        conv2d_22[0][0]                  \n",
      "__________________________________________________________________________________________________\n",
      "activation_21 (Activation)      (None, 32, 32, 256)  0           batch_normalization_21[0][0]     \n",
      "__________________________________________________________________________________________________\n",
      "conv2d_transpose_6 (Conv2DTrans (None, 64, 64, 128)  295040      activation_21[0][0]              \n",
      "__________________________________________________________________________________________________\n",
      "concatenate_6 (Concatenate)     (None, 64, 64, 256)  0           conv2d_transpose_6[0][0]         \n",
      "                                                                 block2_conv2[0][0]               \n",
      "__________________________________________________________________________________________________\n",
      "dropout_10 (Dropout)            (None, 64, 64, 256)  0           concatenate_6[0][0]              \n",
      "__________________________________________________________________________________________________\n",
      "conv2d_23 (Conv2D)              (None, 64, 64, 128)  295040      dropout_10[0][0]                 \n",
      "__________________________________________________________________________________________________\n",
      "batch_normalization_22 (BatchNo (None, 64, 64, 128)  512         conv2d_23[0][0]                  \n",
      "__________________________________________________________________________________________________\n",
      "activation_22 (Activation)      (None, 64, 64, 128)  0           batch_normalization_22[0][0]     \n",
      "__________________________________________________________________________________________________\n",
      "conv2d_24 (Conv2D)              (None, 64, 64, 128)  147584      activation_22[0][0]              \n",
      "__________________________________________________________________________________________________\n",
      "batch_normalization_23 (BatchNo (None, 64, 64, 128)  512         conv2d_24[0][0]                  \n",
      "__________________________________________________________________________________________________\n",
      "activation_23 (Activation)      (None, 64, 64, 128)  0           batch_normalization_23[0][0]     \n",
      "__________________________________________________________________________________________________\n",
      "conv2d_transpose_7 (Conv2DTrans (None, 128, 128, 64) 73792       activation_23[0][0]              \n",
      "__________________________________________________________________________________________________\n",
      "concatenate_7 (Concatenate)     (None, 128, 128, 128 0           conv2d_transpose_7[0][0]         \n",
      "                                                                 block1_conv2[0][0]               \n",
      "__________________________________________________________________________________________________\n",
      "dropout_11 (Dropout)            (None, 128, 128, 128 0           concatenate_7[0][0]              \n",
      "__________________________________________________________________________________________________\n",
      "conv2d_25 (Conv2D)              (None, 128, 128, 64) 73792       dropout_11[0][0]                 \n",
      "__________________________________________________________________________________________________\n",
      "batch_normalization_24 (BatchNo (None, 128, 128, 64) 256         conv2d_25[0][0]                  \n",
      "__________________________________________________________________________________________________\n",
      "activation_24 (Activation)      (None, 128, 128, 64) 0           batch_normalization_24[0][0]     \n",
      "__________________________________________________________________________________________________\n",
      "conv2d_26 (Conv2D)              (None, 128, 128, 64) 36928       activation_24[0][0]              \n",
      "__________________________________________________________________________________________________\n",
      "batch_normalization_25 (BatchNo (None, 128, 128, 64) 256         conv2d_26[0][0]                  \n",
      "__________________________________________________________________________________________________\n",
      "activation_25 (Activation)      (None, 128, 128, 64) 0           batch_normalization_25[0][0]     \n",
      "__________________________________________________________________________________________________\n",
      "conv2d_27 (Conv2D)              (None, 128, 128, 1)  65          activation_25[0][0]              \n",
      "==================================================================================================\n",
      "Total params: 28,033,217\n",
      "Trainable params: 13,314,689\n",
      "Non-trainable params: 14,718,528\n",
      "__________________________________________________________________________________________________\n"
     ]
    }
   ],
   "source": [
    "input_img = Input(shape=(128,128,3))\n",
    "model_vg = get_unet_vg16(input_img, n_filters = 64, dropout = 0.2, batchnorm = True, n_classes = 1)\n",
    "model_vg.summary()"
   ]
  },
  {
   "cell_type": "code",
   "execution_count": 19,
   "metadata": {
    "_cell_guid": "62bf7840-9aca-4ea0-a8d9-0da9a33375cf",
    "_uuid": "2f4ff210-d224-4d0c-8ef1-c06cec3ea009",
    "collapsed": false,
    "execution": {
     "iopub.execute_input": "2022-11-09T12:18:11.467055Z",
     "iopub.status.busy": "2022-11-09T12:18:11.466699Z",
     "iopub.status.idle": "2022-11-09T12:39:16.991312Z",
     "shell.execute_reply": "2022-11-09T12:39:16.990330Z",
     "shell.execute_reply.started": "2022-11-09T12:18:11.467014Z"
    },
    "jupyter": {
     "outputs_hidden": false
    }
   },
   "outputs": [
    {
     "name": "stderr",
     "output_type": "stream",
     "text": [
      "2022-11-09 12:18:12.148071: W tensorflow/core/framework/cpu_allocator_impl.cc:80] Allocation of 491913216 exceeds 10% of free system memory.\n"
     ]
    },
    {
     "name": "stdout",
     "output_type": "stream",
     "text": [
      "Epoch 1/50\n",
      "60/60 [==============================] - 57s 732ms/step - loss: 0.2168 - acc: 0.9089 - f1_m: 0.9308 - val_loss: 1.1796 - val_acc: 0.9323 - val_f1_m: 0.9485\n",
      "Epoch 2/50\n",
      "60/60 [==============================] - 32s 528ms/step - loss: 0.1299 - acc: 0.9483 - f1_m: 0.9617 - val_loss: 0.2013 - val_acc: 0.9489 - val_f1_m: 0.9615\n",
      "Epoch 3/50\n",
      "60/60 [==============================] - 32s 530ms/step - loss: 0.1127 - acc: 0.9552 - f1_m: 0.9669 - val_loss: 0.1433 - val_acc: 0.9525 - val_f1_m: 0.9641\n",
      "Epoch 4/50\n",
      "60/60 [==============================] - 32s 531ms/step - loss: 0.1032 - acc: 0.9593 - f1_m: 0.9700 - val_loss: 0.1274 - val_acc: 0.9591 - val_f1_m: 0.9695\n",
      "Epoch 5/50\n",
      "60/60 [==============================] - 32s 530ms/step - loss: 0.0925 - acc: 0.9634 - f1_m: 0.9729 - val_loss: 0.1229 - val_acc: 0.9582 - val_f1_m: 0.9692\n",
      "Epoch 6/50\n",
      "60/60 [==============================] - 32s 529ms/step - loss: 0.0836 - acc: 0.9667 - f1_m: 0.9755 - val_loss: 0.0883 - val_acc: 0.9664 - val_f1_m: 0.9751\n",
      "Epoch 7/50\n",
      "60/60 [==============================] - 32s 529ms/step - loss: 0.0746 - acc: 0.9703 - f1_m: 0.9781 - val_loss: 0.1229 - val_acc: 0.9529 - val_f1_m: 0.9656\n",
      "Epoch 8/50\n",
      "60/60 [==============================] - 32s 529ms/step - loss: 0.0666 - acc: 0.9737 - f1_m: 0.9806 - val_loss: 0.0846 - val_acc: 0.9678 - val_f1_m: 0.9761\n",
      "Epoch 9/50\n",
      "60/60 [==============================] - 32s 528ms/step - loss: 0.0643 - acc: 0.9748 - f1_m: 0.9814 - val_loss: 0.0906 - val_acc: 0.9671 - val_f1_m: 0.9757\n",
      "Epoch 10/50\n",
      "60/60 [==============================] - 32s 528ms/step - loss: 0.0585 - acc: 0.9769 - f1_m: 0.9829 - val_loss: 0.0961 - val_acc: 0.9679 - val_f1_m: 0.9760\n",
      "Epoch 11/50\n",
      "60/60 [==============================] - 32s 529ms/step - loss: 0.0553 - acc: 0.9781 - f1_m: 0.9839 - val_loss: 0.1050 - val_acc: 0.9657 - val_f1_m: 0.9741\n",
      "Epoch 12/50\n",
      "60/60 [==============================] - 32s 530ms/step - loss: 0.0498 - acc: 0.9806 - f1_m: 0.9857 - val_loss: 0.0908 - val_acc: 0.9698 - val_f1_m: 0.9774\n",
      "Epoch 13/50\n",
      "60/60 [==============================] - 32s 532ms/step - loss: 0.0456 - acc: 0.9823 - f1_m: 0.9869 - val_loss: 0.0857 - val_acc: 0.9696 - val_f1_m: 0.9774\n",
      "Epoch 14/50\n",
      "60/60 [==============================] - 32s 530ms/step - loss: 0.0459 - acc: 0.9821 - f1_m: 0.9868 - val_loss: 0.0990 - val_acc: 0.9681 - val_f1_m: 0.9763\n",
      "Epoch 15/50\n",
      "60/60 [==============================] - 32s 531ms/step - loss: 0.0419 - acc: 0.9836 - f1_m: 0.9879 - val_loss: 0.0892 - val_acc: 0.9698 - val_f1_m: 0.9775\n",
      "Epoch 16/50\n",
      "60/60 [==============================] - 32s 531ms/step - loss: 0.0374 - acc: 0.9854 - f1_m: 0.9892 - val_loss: 0.0842 - val_acc: 0.9707 - val_f1_m: 0.9784\n",
      "Epoch 17/50\n",
      "60/60 [==============================] - 32s 529ms/step - loss: 0.0367 - acc: 0.9857 - f1_m: 0.9894 - val_loss: 0.0863 - val_acc: 0.9716 - val_f1_m: 0.9790\n",
      "Epoch 18/50\n",
      "60/60 [==============================] - 32s 530ms/step - loss: 0.0332 - acc: 0.9870 - f1_m: 0.9904 - val_loss: 0.0877 - val_acc: 0.9715 - val_f1_m: 0.9787\n",
      "Epoch 19/50\n",
      "60/60 [==============================] - 32s 529ms/step - loss: 0.0291 - acc: 0.9885 - f1_m: 0.9915 - val_loss: 0.0815 - val_acc: 0.9725 - val_f1_m: 0.9796\n",
      "Epoch 20/50\n",
      "60/60 [==============================] - 32s 528ms/step - loss: 0.0285 - acc: 0.9888 - f1_m: 0.9918 - val_loss: 0.0968 - val_acc: 0.9714 - val_f1_m: 0.9787\n",
      "Epoch 21/50\n",
      "60/60 [==============================] - 32s 528ms/step - loss: 0.0264 - acc: 0.9896 - f1_m: 0.9923 - val_loss: 0.1042 - val_acc: 0.9702 - val_f1_m: 0.9779\n",
      "Epoch 22/50\n",
      "60/60 [==============================] - 32s 529ms/step - loss: 0.0300 - acc: 0.9882 - f1_m: 0.9913 - val_loss: 0.1100 - val_acc: 0.9715 - val_f1_m: 0.9788\n",
      "Epoch 23/50\n",
      "60/60 [==============================] - 32s 528ms/step - loss: 0.0306 - acc: 0.9879 - f1_m: 0.9911 - val_loss: 0.1187 - val_acc: 0.9673 - val_f1_m: 0.9757\n",
      "Epoch 24/50\n",
      "60/60 [==============================] - 32s 529ms/step - loss: 0.0284 - acc: 0.9888 - f1_m: 0.9917 - val_loss: 0.1055 - val_acc: 0.9696 - val_f1_m: 0.9774\n",
      "Epoch 25/50\n",
      "60/60 [==============================] - 32s 529ms/step - loss: 0.0253 - acc: 0.9900 - f1_m: 0.9926 - val_loss: 0.1012 - val_acc: 0.9693 - val_f1_m: 0.9773\n",
      "Epoch 26/50\n",
      "60/60 [==============================] - 32s 529ms/step - loss: 0.0298 - acc: 0.9883 - f1_m: 0.9914 - val_loss: 0.1057 - val_acc: 0.9708 - val_f1_m: 0.9783\n",
      "Epoch 27/50\n",
      "60/60 [==============================] - 32s 529ms/step - loss: 0.0376 - acc: 0.9851 - f1_m: 0.9890 - val_loss: 0.1142 - val_acc: 0.9702 - val_f1_m: 0.9777\n",
      "Epoch 28/50\n",
      "60/60 [==============================] - 32s 529ms/step - loss: 0.0251 - acc: 0.9900 - f1_m: 0.9926 - val_loss: 0.0974 - val_acc: 0.9721 - val_f1_m: 0.9792\n",
      "Epoch 29/50\n",
      "60/60 [==============================] - 32s 528ms/step - loss: 0.0213 - acc: 0.9915 - f1_m: 0.9937 - val_loss: 0.0930 - val_acc: 0.9729 - val_f1_m: 0.9798\n",
      "Epoch 30/50\n",
      "60/60 [==============================] - 32s 528ms/step - loss: 0.0201 - acc: 0.9919 - f1_m: 0.9940 - val_loss: 0.0983 - val_acc: 0.9731 - val_f1_m: 0.9800\n",
      "Epoch 31/50\n",
      "60/60 [==============================] - 32s 529ms/step - loss: 0.0193 - acc: 0.9922 - f1_m: 0.9942 - val_loss: 0.1072 - val_acc: 0.9716 - val_f1_m: 0.9789\n",
      "Epoch 32/50\n",
      "60/60 [==============================] - 32s 530ms/step - loss: 0.0186 - acc: 0.9925 - f1_m: 0.9945 - val_loss: 0.1109 - val_acc: 0.9719 - val_f1_m: 0.9790\n",
      "Epoch 33/50\n",
      "60/60 [==============================] - 32s 529ms/step - loss: 0.0177 - acc: 0.9928 - f1_m: 0.9947 - val_loss: 0.1053 - val_acc: 0.9716 - val_f1_m: 0.9790\n",
      "Epoch 34/50\n",
      "60/60 [==============================] - 32s 531ms/step - loss: 0.0173 - acc: 0.9930 - f1_m: 0.9948 - val_loss: 0.1088 - val_acc: 0.9725 - val_f1_m: 0.9796\n",
      "Epoch 35/50\n",
      "60/60 [==============================] - 32s 530ms/step - loss: 0.0184 - acc: 0.9926 - f1_m: 0.9945 - val_loss: 0.1357 - val_acc: 0.9720 - val_f1_m: 0.9794\n",
      "Epoch 36/50\n",
      "60/60 [==============================] - 32s 532ms/step - loss: 0.0247 - acc: 0.9902 - f1_m: 0.9928 - val_loss: 0.1557 - val_acc: 0.9679 - val_f1_m: 0.9763\n",
      "Epoch 37/50\n",
      "60/60 [==============================] - 32s 530ms/step - loss: 0.0199 - acc: 0.9920 - f1_m: 0.9941 - val_loss: 0.1132 - val_acc: 0.9727 - val_f1_m: 0.9797\n",
      "Epoch 38/50\n",
      "60/60 [==============================] - 32s 529ms/step - loss: 0.0181 - acc: 0.9927 - f1_m: 0.9946 - val_loss: 0.1253 - val_acc: 0.9708 - val_f1_m: 0.9785\n",
      "Epoch 39/50\n",
      "60/60 [==============================] - 32s 529ms/step - loss: 0.0175 - acc: 0.9929 - f1_m: 0.9948 - val_loss: 0.1184 - val_acc: 0.9718 - val_f1_m: 0.9791\n"
     ]
    }
   ],
   "source": [
    "inputs = Input((128,128,3))\n",
    "model_vg.compile(optimizer = Adam(learning_rate = 0.001), loss = \"binary_crossentropy\", metrics = ['acc',f1_m]) # precision_m, recall_m\n",
    "# Fit data to model\n",
    "\n",
    "history = model_vg.fit(X_train, y_train,\n",
    "                       epochs=50,\n",
    "                       batch_size=42,\n",
    "                      # shuffle=True,\n",
    "                       validation_data=(X_test, y_test),\n",
    "                       callbacks= callback\n",
    "             )"
   ]
  },
  {
   "cell_type": "code",
   "execution_count": 20,
   "metadata": {
    "execution": {
     "iopub.execute_input": "2022-11-09T12:39:16.997056Z",
     "iopub.status.busy": "2022-11-09T12:39:16.996754Z",
     "iopub.status.idle": "2022-11-09T12:39:17.217188Z",
     "shell.execute_reply": "2022-11-09T12:39:17.213352Z",
     "shell.execute_reply.started": "2022-11-09T12:39:16.997012Z"
    }
   },
   "outputs": [
    {
     "data": {
      "image/png": "[encoded data removed]",
      "text/plain": [
       "<Figure size 432x288 with 1 Axes>"
      ]
     },
     "metadata": {
      "needs_background": "light"
     },
     "output_type": "display_data"
    }
   ],
   "source": [
    "# Plot of the accuracy of the VGG model over each epoch\n",
    "\n",
    "plt.plot(history.history['acc'])\n",
    "plt.plot(history.history['val_acc'])\n",
    "plt.title('VGG accuracy')\n",
    "plt.ylabel('Score')\n",
    "plt.xlabel('Epoch')\n",
    "plt.legend(['Train', 'Val'], loc='upper left')\n",
    "plt.show()"
   ]
  },
  {
   "cell_type": "code",
   "execution_count": 21,
   "metadata": {
    "execution": {
     "iopub.execute_input": "2022-11-09T12:39:17.219170Z",
     "iopub.status.busy": "2022-11-09T12:39:17.218614Z",
     "iopub.status.idle": "2022-11-09T12:39:17.424782Z",
     "shell.execute_reply": "2022-11-09T12:39:17.423898Z",
     "shell.execute_reply.started": "2022-11-09T12:39:17.219124Z"
    }
   },
   "outputs": [
    {
     "data": {
      "image/png": "[encoded data removed]",
      "text/plain": [
       "<Figure size 432x288 with 1 Axes>"
      ]
     },
     "metadata": {
      "needs_background": "light"
     },
     "output_type": "display_data"
    }
   ],
   "source": [
    "# Plot of the f1-score of the VGG model over each epoch\n",
    "\n",
    "plt.plot(history.history['f1_m'])\n",
    "plt.plot(history.history['val_f1_m'])\n",
    "plt.title('VGG f1-score')\n",
    "plt.ylabel('Score')\n",
    "plt.xlabel('Epoch')\n",
    "plt.legend(['Train', 'Val'], loc='upper left')\n",
    "plt.show()"
   ]
  },
  {
   "cell_type": "code",
   "execution_count": 22,
   "metadata": {
    "execution": {
     "iopub.execute_input": "2022-11-09T12:39:17.426888Z",
     "iopub.status.busy": "2022-11-09T12:39:17.426288Z",
     "iopub.status.idle": "2022-11-09T12:39:17.704449Z",
     "shell.execute_reply": "2022-11-09T12:39:17.703540Z",
     "shell.execute_reply.started": "2022-11-09T12:39:17.426854Z"
    }
   },
   "outputs": [
    {
     "data": {
      "image/png": "[encoded data removed]",
      "text/plain": [
       "<Figure size 432x288 with 1 Axes>"
      ]
     },
     "metadata": {
      "needs_background": "light"
     },
     "output_type": "display_data"
    }
   ],
   "source": [
    "#Plot of the loss of the VGG model over each epoch\n",
    "\n",
    "plt.plot(var.history['loss'])\n",
    "plt.plot(var.history['val_loss'])\n",
    "plt.title('VGG loss')\n",
    "plt.ylabel('Loss')\n",
    "plt.xlabel('Epoch')\n",
    "plt.legend(['Train', 'Val'], loc='upper right')\n",
    "plt.show()"
   ]
  },
  {
   "cell_type": "markdown",
   "metadata": {
    "_cell_guid": "4985cc5b-fba8-45dd-9a4a-8941a22b4fe2",
    "_uuid": "95060fe9-1ef4-4680-bcc9-2a6ddaa89ceb"
   },
   "source": [
    "#### One can see that the VGG model overfits much more than the manual U-net model"
   ]
  },
  {
   "cell_type": "markdown",
   "metadata": {
    "_cell_guid": "4c924455-2c41-4c3c-a408-fd3c263c2f3f",
    "_uuid": "5d86f399-45d5-4e82-b666-cd83c00298e3",
    "execution": {
     "iopub.status.busy": "2022-10-31T20:29:14.398312Z",
     "iopub.status.idle": "2022-10-31T20:29:14.399572Z",
     "shell.execute_reply": "2022-10-31T20:29:14.399314Z",
     "shell.execute_reply.started": "2022-10-31T20:29:14.399286Z"
    },
    "jupyter": {
     "outputs_hidden": false
    }
   },
   "source": [
    "### Orion related code, i.e. slurm-script, username, code to access data on Orion and time usage for your modelling (point 5)"
   ]
  },
  {
   "cell_type": "markdown",
   "metadata": {},
   "source": [
    "#### Slurm script: singularity exec --nv --bind /mnt/courses/DAT300-22:/mnt/courses/DAT300-22 $SIFFILE python Unet-CA2-Orion.py"
   ]
  },
  {
   "cell_type": "markdown",
   "metadata": {},
   "source": [
    "From what we see, Orion was a little bit faster at training the models and predicting"
   ]
  },
  {
   "cell_type": "code",
   "execution_count": 23,
   "metadata": {
    "_cell_guid": "c67d30f0-afd6-4df0-9162-e9a4ab51a0bd",
    "_uuid": "5cdc0584-2ce6-4f05-b276-cb30f4530ece",
    "collapsed": false,
    "execution": {
     "iopub.execute_input": "2022-11-09T12:39:17.711318Z",
     "iopub.status.busy": "2022-11-09T12:39:17.708950Z",
     "iopub.status.idle": "2022-11-09T12:39:17.717585Z",
     "shell.execute_reply": "2022-11-09T12:39:17.716715Z",
     "shell.execute_reply.started": "2022-11-09T12:39:17.711274Z"
    },
    "jupyter": {
     "outputs_hidden": false
    },
    "pycharm": {
     "is_executing": true
    }
   },
   "outputs": [],
   "source": [
    "# Optional: Code and model training for multiclass segmentation with U-net (Point 5 in Canvas)"
   ]
  },
  {
   "cell_type": "markdown",
   "metadata": {
    "_cell_guid": "4dcb971d-8950-45cd-9737-73a1d5acec72",
    "_uuid": "f60a28e1-6b9e-4dd5-a84b-b44c7163b713"
   },
   "source": [
    "Describe the results you are observing."
   ]
  },
  {
   "cell_type": "code",
   "execution_count": 24,
   "metadata": {
    "_cell_guid": "d66ebe7d-5635-46cf-b3c4-0987e10497ea",
    "_uuid": "208e727a-9c7a-4097-bfb0-99b01c403af7",
    "collapsed": false,
    "execution": {
     "iopub.execute_input": "2022-11-09T12:39:17.724969Z",
     "iopub.status.busy": "2022-11-09T12:39:17.722679Z",
     "iopub.status.idle": "2022-11-09T12:39:33.914440Z",
     "shell.execute_reply": "2022-11-09T12:39:33.913194Z",
     "shell.execute_reply.started": "2022-11-09T12:39:17.724935Z"
    },
    "jupyter": {
     "outputs_hidden": false
    }
   },
   "outputs": [
    {
     "data": {
      "text/plain": [
       "array([0.9989022 , 0.9969715 , 0.9989262 , ..., 0.9999335 , 0.99993956,\n",
       "       0.9996289 ], dtype=float32)"
      ]
     },
     "execution_count": 24,
     "metadata": {},
     "output_type": "execute_result"
    }
   ],
   "source": [
    "unet_predictions = model.predict(X_test_final) # U-net predicting\n",
    "pred_1 = unet_predictions.flatten()\n",
    "pred_1\n",
    "\n",
    "vg_predictions = model_vg.predict(X_test_final) # VGG16 predicting\n",
    "pred_2 = vg_predictions.flatten()\n",
    "pred_2"
   ]
  },
  {
   "cell_type": "code",
   "execution_count": null,
   "metadata": {
    "_cell_guid": "77d5f1eb-7a0b-4c1c-aee8-a8b2c3daa516",
    "_uuid": "5e2a1262-267c-47eb-9909-0e26a61a1ee0",
    "collapsed": false,
    "execution": {
     "iopub.status.busy": "2022-11-09T12:39:33.928572Z",
     "iopub.status.idle": "2022-11-09T12:39:33.929831Z",
     "shell.execute_reply": "2022-11-09T12:39:33.929520Z",
     "shell.execute_reply.started": "2022-11-09T12:39:33.929494Z"
    },
    "jupyter": {
     "outputs_hidden": false
    }
   },
   "outputs": [],
   "source": [
    "submission_df = pd.DataFrame(data=list(range(len(pred))), \n",
    "                             columns=[\"Id\"])\n",
    "\n",
    "submission_df[\"Predicted\"] = pred\n",
    "submission_df = submission_df.round(0).astype(\"int\")\n",
    "                                    \n",
    "submission_df['Predicted'] = np.where(submission_df['Predicted'] == 0,\n",
    "                                      False, True)\n",
    "\n",
    "submission_df.to_csv(\"CA2_goofy_submission.csv\", index=False)\n",
    "submission_df"
   ]
  },
  {
   "cell_type": "markdown",
   "metadata": {
    "_cell_guid": "9dafb43a-7458-4c8a-87ce-7507f02430a0",
    "_uuid": "1af266e4-71e0-4d24-aa3d-032f6099b6a8"
   },
   "source": [
    "# Discussion / conclusion"
   ]
  },
  {
   "cell_type": "markdown",
   "metadata": {
    "_cell_guid": "3a44e31f-2c58-4350-bdf7-bf7e4b4c6466",
    "_uuid": "4b2d2659-1254-46d3-903b-dc7394a1118f"
   },
   "source": [
    "When we started modelling, we didn't change the output activation from softmax to sigmoid, which gave us an accuracy of around 60%. After changing this to sigmoid, our accuracy got much better on around 80%, but didn't really excel around 98% until we changed our preprocessing method. By using sklearn's train-test-split, we managed to get above beat me. We also had some problems with Orion, because it did not have sklearn and had a steep learning curve, because of the linux commands.\n",
    "\n",
    "Our best model was the manual U-net, which was a little bit better than VGG, since it didn't overfit as much. Anyway, when running the models in Orion, each epoch for both of the models took less time to run, but the overall accuracy stayed the same. Given that Orion did not work for us for quite a long time, this increase in speed did not help us much. \n",
    "\n",
    "In other words, we did not have a pleasant experience with Orion. Anyway, given more time we would commit to complete the optional task of multiclass segmentation. We did manage to make the function work, but we did not understand how to fit that to the model. We have therefore concluded with not including it in this compulsary assignment."
   ]
  }
 ],
 "metadata": {
  "kernelspec": {
   "display_name": "Python 3 (ipykernel)",
   "language": "python",
   "name": "python3"
  },
  "language_info": {
   "codemirror_mode": {
    "name": "ipython",
    "version": 3
   },
   "file_extension": ".py",
   "mimetype": "text/x-python",
   "name": "python",
   "nbconvert_exporter": "python",
   "pygments_lexer": "ipython3",
   "version": "3.9.15"
  }
 },
 "nbformat": 4,
 "nbformat_minor": 4
}
